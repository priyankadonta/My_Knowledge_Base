{
  "nbformat": 4,
  "nbformat_minor": 0,
  "metadata": {
    "colab": {
      "name": "Python Basics",
      "provenance": [],
      "collapsed_sections": []
    },
    "kernelspec": {
      "name": "python3",
      "display_name": "Python 3"
    }
  },
  "cells": [
    {
      "cell_type": "markdown",
      "metadata": {
        "id": "kMBJi8xQMLzQ",
        "colab_type": "text"
      },
      "source": [
        "# Introduction to Python"
      ]
    },
    {
      "cell_type": "markdown",
      "metadata": {
        "id": "0TN57h1bMPD0",
        "colab_type": "text"
      },
      "source": [
        "\n",
        "Why Python?"
      ]
    },
    {
      "cell_type": "markdown",
      "metadata": {
        "id": "CSMZSB9jMWJN",
        "colab_type": "text"
      },
      "source": [
        "# Variables and Data Types"
      ]
    },
    {
      "cell_type": "markdown",
      "metadata": {
        "id": "EoIfG-4HOD6W",
        "colab_type": "text"
      },
      "source": [
        "Variables"
      ]
    },
    {
      "cell_type": "code",
      "metadata": {
        "id": "fgMoOLaPUF6u",
        "colab_type": "code",
        "colab": {}
      },
      "source": [
        "x = 5"
      ],
      "execution_count": 0,
      "outputs": []
    },
    {
      "cell_type": "code",
      "metadata": {
        "id": "mGtLs5xDUR0B",
        "colab_type": "code",
        "outputId": "14eb1975-9cd6-48fa-87fb-c01e0deb4806",
        "colab": {
          "base_uri": "https://localhost:8080/",
          "height": 34
        }
      },
      "source": [
        "x"
      ],
      "execution_count": 2,
      "outputs": [
        {
          "output_type": "execute_result",
          "data": {
            "text/plain": [
              "5"
            ]
          },
          "metadata": {
            "tags": []
          },
          "execution_count": 2
        }
      ]
    },
    {
      "cell_type": "markdown",
      "metadata": {
        "id": "Uj3mPY5FUgV4",
        "colab_type": "text"
      },
      "source": [
        "this will give an error as Python is case Sensitive"
      ]
    },
    {
      "cell_type": "code",
      "metadata": {
        "id": "b2eqp_NjUWEh",
        "colab_type": "code",
        "outputId": "ef18fcf3-33d8-4e54-ed04-f811bd17d453",
        "colab": {
          "base_uri": "https://localhost:8080/",
          "height": 162
        }
      },
      "source": [
        "X"
      ],
      "execution_count": 3,
      "outputs": [
        {
          "output_type": "error",
          "ename": "NameError",
          "evalue": "ignored",
          "traceback": [
            "\u001b[0;31m---------------------------------------------------------------------------\u001b[0m",
            "\u001b[0;31mNameError\u001b[0m                                 Traceback (most recent call last)",
            "\u001b[0;32m<ipython-input-3-b5fec669aca1>\u001b[0m in \u001b[0;36m<module>\u001b[0;34m()\u001b[0m\n\u001b[0;32m----> 1\u001b[0;31m \u001b[0mX\u001b[0m\u001b[0;34m\u001b[0m\u001b[0;34m\u001b[0m\u001b[0m\n\u001b[0m",
            "\u001b[0;31mNameError\u001b[0m: name 'X' is not defined"
          ]
        }
      ]
    },
    {
      "cell_type": "code",
      "metadata": {
        "id": "pm6H-Fn1UmFg",
        "colab_type": "code",
        "outputId": "7d520e44-00f5-4b5c-ea08-4b965bc3e110",
        "colab": {
          "base_uri": "https://localhost:8080/",
          "height": 34
        }
      },
      "source": [
        "print(x)"
      ],
      "execution_count": 4,
      "outputs": [
        {
          "output_type": "stream",
          "text": [
            "5\n"
          ],
          "name": "stdout"
        }
      ]
    },
    {
      "cell_type": "markdown",
      "metadata": {
        "id": "tXg8D0p4U4fz",
        "colab_type": "text"
      },
      "source": [
        "Assign values"
      ]
    },
    {
      "cell_type": "code",
      "metadata": {
        "id": "IowXgB1OU014",
        "colab_type": "code",
        "colab": {}
      },
      "source": [
        "x, y = (1,2)"
      ],
      "execution_count": 0,
      "outputs": []
    },
    {
      "cell_type": "code",
      "metadata": {
        "id": "1pUm0O-KU7fT",
        "colab_type": "code",
        "outputId": "b365df78-f096-45ff-e8c7-30c3f13f16ce",
        "colab": {
          "base_uri": "https://localhost:8080/",
          "height": 34
        }
      },
      "source": [
        "x"
      ],
      "execution_count": 6,
      "outputs": [
        {
          "output_type": "execute_result",
          "data": {
            "text/plain": [
              "1"
            ]
          },
          "metadata": {
            "tags": []
          },
          "execution_count": 6
        }
      ]
    },
    {
      "cell_type": "code",
      "metadata": {
        "id": "Rb-XpkbmU8fr",
        "colab_type": "code",
        "outputId": "962f7d30-bf18-4d5b-a887-dceb2acbaef9",
        "colab": {
          "base_uri": "https://localhost:8080/",
          "height": 34
        }
      },
      "source": [
        "y"
      ],
      "execution_count": 7,
      "outputs": [
        {
          "output_type": "execute_result",
          "data": {
            "text/plain": [
              "2"
            ]
          },
          "metadata": {
            "tags": []
          },
          "execution_count": 7
        }
      ]
    },
    {
      "cell_type": "markdown",
      "metadata": {
        "id": "sAkhhML3VJ_O",
        "colab_type": "text"
      },
      "source": [
        "This will display error as you have assigned more values then variables"
      ]
    },
    {
      "cell_type": "code",
      "metadata": {
        "id": "eASeI4KXVAq3",
        "colab_type": "code",
        "outputId": "08ecd464-695f-45f7-c38a-8b36b408e1f3",
        "colab": {
          "base_uri": "https://localhost:8080/",
          "height": 162
        }
      },
      "source": [
        "x,y = (1,2,3)"
      ],
      "execution_count": 8,
      "outputs": [
        {
          "output_type": "error",
          "ename": "ValueError",
          "evalue": "ignored",
          "traceback": [
            "\u001b[0;31m---------------------------------------------------------------------------\u001b[0m",
            "\u001b[0;31mValueError\u001b[0m                                Traceback (most recent call last)",
            "\u001b[0;32m<ipython-input-8-0b4403562722>\u001b[0m in \u001b[0;36m<module>\u001b[0;34m()\u001b[0m\n\u001b[0;32m----> 1\u001b[0;31m \u001b[0mx\u001b[0m\u001b[0;34m,\u001b[0m\u001b[0my\u001b[0m \u001b[0;34m=\u001b[0m \u001b[0;34m(\u001b[0m\u001b[0;36m1\u001b[0m\u001b[0;34m,\u001b[0m\u001b[0;36m2\u001b[0m\u001b[0;34m,\u001b[0m\u001b[0;36m3\u001b[0m\u001b[0;34m)\u001b[0m\u001b[0;34m\u001b[0m\u001b[0;34m\u001b[0m\u001b[0m\n\u001b[0m",
            "\u001b[0;31mValueError\u001b[0m: too many values to unpack (expected 2)"
          ]
        }
      ]
    },
    {
      "cell_type": "markdown",
      "metadata": {
        "id": "DVq9qkv9Mfgt",
        "colab_type": "text"
      },
      "source": [
        "Numbers and Boolean Values in Python\n",
        "\n",
        "**Integers:** Positive or negative numbers; without a decimal point"
      ]
    },
    {
      "cell_type": "code",
      "metadata": {
        "id": "wmXO67QFVe_d",
        "colab_type": "code",
        "outputId": "6031e30d-98f1-4eb0-80fd-dd0aded81f31",
        "colab": {
          "base_uri": "https://localhost:8080/",
          "height": 34
        }
      },
      "source": [
        "x1 = 5\n",
        "type(x1) # integer"
      ],
      "execution_count": 9,
      "outputs": [
        {
          "output_type": "execute_result",
          "data": {
            "text/plain": [
              "int"
            ]
          },
          "metadata": {
            "tags": []
          },
          "execution_count": 9
        }
      ]
    },
    {
      "cell_type": "markdown",
      "metadata": {
        "id": "fClhvL8rVy-1",
        "colab_type": "text"
      },
      "source": [
        "**Floating points (floats)**: Real numbers; with a decimal point"
      ]
    },
    {
      "cell_type": "code",
      "metadata": {
        "id": "wq00LJDgVkUl",
        "colab_type": "code",
        "outputId": "42b1e133-e5f8-44d6-a182-32ec4d26e975",
        "colab": {
          "base_uri": "https://localhost:8080/",
          "height": 34
        }
      },
      "source": [
        "x2 = 19.2\n",
        "type(x2) #float"
      ],
      "execution_count": 10,
      "outputs": [
        {
          "output_type": "execute_result",
          "data": {
            "text/plain": [
              "float"
            ]
          },
          "metadata": {
            "tags": []
          },
          "execution_count": 10
        }
      ]
    },
    {
      "cell_type": "markdown",
      "metadata": {
        "id": "FtWMJAN4V9fv",
        "colab_type": "text"
      },
      "source": [
        "Transform the variable into an integer"
      ]
    },
    {
      "cell_type": "code",
      "metadata": {
        "id": "XNNPghEXWB_p",
        "colab_type": "code",
        "outputId": "04a27473-b247-4b11-921d-2203181c5717",
        "colab": {
          "base_uri": "https://localhost:8080/",
          "height": 34
        }
      },
      "source": [
        "int(19.2)"
      ],
      "execution_count": 11,
      "outputs": [
        {
          "output_type": "execute_result",
          "data": {
            "text/plain": [
              "19"
            ]
          },
          "metadata": {
            "tags": []
          },
          "execution_count": 11
        }
      ]
    },
    {
      "cell_type": "code",
      "metadata": {
        "id": "R6hFglzoWHoA",
        "colab_type": "code",
        "outputId": "51deac91-d9b1-4a15-e538-aabe88e4858e",
        "colab": {
          "base_uri": "https://localhost:8080/",
          "height": 34
        }
      },
      "source": [
        "float(5)"
      ],
      "execution_count": 12,
      "outputs": [
        {
          "output_type": "execute_result",
          "data": {
            "text/plain": [
              "5.0"
            ]
          },
          "metadata": {
            "tags": []
          },
          "execution_count": 12
        }
      ]
    },
    {
      "cell_type": "markdown",
      "metadata": {
        "id": "jQ0UUOVCWKJh",
        "colab_type": "text"
      },
      "source": [
        "**Boolean Values:** A \"True\" or \"False\" value 1 or 0, on or off"
      ]
    },
    {
      "cell_type": "code",
      "metadata": {
        "id": "B3tjpQISWRvZ",
        "colab_type": "code",
        "outputId": "9d38cd7d-14b2-48af-f2fd-85f6723dfb5e",
        "colab": {
          "base_uri": "https://localhost:8080/",
          "height": 34
        }
      },
      "source": [
        "x3 = True #true will give an error\n",
        "type(x3)"
      ],
      "execution_count": 13,
      "outputs": [
        {
          "output_type": "execute_result",
          "data": {
            "text/plain": [
              "bool"
            ]
          },
          "metadata": {
            "tags": []
          },
          "execution_count": 13
        }
      ]
    },
    {
      "cell_type": "markdown",
      "metadata": {
        "id": "zvYY4E95MnoT",
        "colab_type": "text"
      },
      "source": [
        "Python Strings\n",
        "\n",
        "**Strings:** Text values composed of a sequence of characters"
      ]
    },
    {
      "cell_type": "code",
      "metadata": {
        "id": "wpXW9PcWWgwH",
        "colab_type": "code",
        "outputId": "07b59deb-0b60-490d-90ab-fbbd61e29319",
        "colab": {
          "base_uri": "https://localhost:8080/",
          "height": 162
        }
      },
      "source": [
        "Amy"
      ],
      "execution_count": 14,
      "outputs": [
        {
          "output_type": "error",
          "ename": "NameError",
          "evalue": "ignored",
          "traceback": [
            "\u001b[0;31m---------------------------------------------------------------------------\u001b[0m",
            "\u001b[0;31mNameError\u001b[0m                                 Traceback (most recent call last)",
            "\u001b[0;32m<ipython-input-14-d68d655b4b81>\u001b[0m in \u001b[0;36m<module>\u001b[0;34m()\u001b[0m\n\u001b[0;32m----> 1\u001b[0;31m \u001b[0mAmy\u001b[0m\u001b[0;34m\u001b[0m\u001b[0;34m\u001b[0m\u001b[0m\n\u001b[0m",
            "\u001b[0;31mNameError\u001b[0m: name 'Amy' is not defined"
          ]
        }
      ]
    },
    {
      "cell_type": "code",
      "metadata": {
        "id": "thyqiHEBWv4P",
        "colab_type": "code",
        "outputId": "fe5d28f7-02f7-499f-9a73-e04d45407273",
        "colab": {
          "base_uri": "https://localhost:8080/",
          "height": 34
        }
      },
      "source": [
        "'Amy'"
      ],
      "execution_count": 15,
      "outputs": [
        {
          "output_type": "execute_result",
          "data": {
            "text/plain": [
              "'Amy'"
            ]
          },
          "metadata": {
            "tags": []
          },
          "execution_count": 15
        }
      ]
    },
    {
      "cell_type": "code",
      "metadata": {
        "id": "mT6sO34RWxeH",
        "colab_type": "code",
        "outputId": "17df43ce-45b4-4f3b-ade5-be83e6afec6a",
        "colab": {
          "base_uri": "https://localhost:8080/",
          "height": 34
        }
      },
      "source": [
        "\"Amy\""
      ],
      "execution_count": 16,
      "outputs": [
        {
          "output_type": "execute_result",
          "data": {
            "text/plain": [
              "'Amy'"
            ]
          },
          "metadata": {
            "tags": []
          },
          "execution_count": 16
        }
      ]
    },
    {
      "cell_type": "code",
      "metadata": {
        "id": "dJzDQktyWybz",
        "colab_type": "code",
        "outputId": "38bcfaf3-b348-45ae-8ffd-a0d91bdedd88",
        "colab": {
          "base_uri": "https://localhost:8080/",
          "height": 34
        }
      },
      "source": [
        "print(\"Amy\") # or print(\"Amy\")"
      ],
      "execution_count": 17,
      "outputs": [
        {
          "output_type": "stream",
          "text": [
            "Amy\n"
          ],
          "name": "stdout"
        }
      ]
    },
    {
      "cell_type": "code",
      "metadata": {
        "id": "5YGhsyXAW_G-",
        "colab_type": "code",
        "outputId": "752c898a-86e6-44a2-fdd6-fa5b36313bd0",
        "colab": {
          "base_uri": "https://localhost:8080/",
          "height": 178
        }
      },
      "source": [
        "y = 10\n",
        "print(y + \" Dollars\")"
      ],
      "execution_count": 18,
      "outputs": [
        {
          "output_type": "error",
          "ename": "TypeError",
          "evalue": "ignored",
          "traceback": [
            "\u001b[0;31m---------------------------------------------------------------------------\u001b[0m",
            "\u001b[0;31mTypeError\u001b[0m                                 Traceback (most recent call last)",
            "\u001b[0;32m<ipython-input-18-f1b50e8e2446>\u001b[0m in \u001b[0;36m<module>\u001b[0;34m()\u001b[0m\n\u001b[1;32m      1\u001b[0m \u001b[0my\u001b[0m \u001b[0;34m=\u001b[0m \u001b[0;36m10\u001b[0m\u001b[0;34m\u001b[0m\u001b[0;34m\u001b[0m\u001b[0m\n\u001b[0;32m----> 2\u001b[0;31m \u001b[0mprint\u001b[0m\u001b[0;34m(\u001b[0m\u001b[0my\u001b[0m \u001b[0;34m+\u001b[0m \u001b[0;34m\" Dollars\"\u001b[0m\u001b[0;34m)\u001b[0m\u001b[0;34m\u001b[0m\u001b[0;34m\u001b[0m\u001b[0m\n\u001b[0m",
            "\u001b[0;31mTypeError\u001b[0m: unsupported operand type(s) for +: 'int' and 'str'"
          ]
        }
      ]
    },
    {
      "cell_type": "code",
      "metadata": {
        "id": "zdKMzy1gXEFU",
        "colab_type": "code",
        "outputId": "f83bcc85-6884-45f7-b415-ccd6e0dc56c6",
        "colab": {
          "base_uri": "https://localhost:8080/",
          "height": 34
        }
      },
      "source": [
        "y = 10\n",
        "print(str(y) + \" Dollars\")"
      ],
      "execution_count": 19,
      "outputs": [
        {
          "output_type": "stream",
          "text": [
            "10 Dollars\n"
          ],
          "name": "stdout"
        }
      ]
    },
    {
      "cell_type": "code",
      "metadata": {
        "id": "C4Xr7GMXXJ0r",
        "colab_type": "code",
        "outputId": "970c0728-eaa5-4a68-e7ba-d4ebbf7f27f1",
        "colab": {
          "base_uri": "https://localhost:8080/",
          "height": 128
        }
      },
      "source": [
        "'I'm fine'"
      ],
      "execution_count": 20,
      "outputs": [
        {
          "output_type": "error",
          "ename": "SyntaxError",
          "evalue": "ignored",
          "traceback": [
            "\u001b[0;36m  File \u001b[0;32m\"<ipython-input-20-4b03f9290adb>\"\u001b[0;36m, line \u001b[0;32m1\u001b[0m\n\u001b[0;31m    'I'm fine'\u001b[0m\n\u001b[0m       ^\u001b[0m\n\u001b[0;31mSyntaxError\u001b[0m\u001b[0;31m:\u001b[0m invalid syntax\n"
          ]
        }
      ]
    },
    {
      "cell_type": "code",
      "metadata": {
        "id": "fiqhOX_2XLyM",
        "colab_type": "code",
        "outputId": "0e72fdbe-3525-4625-a27d-4ac3a3eaf443",
        "colab": {
          "base_uri": "https://localhost:8080/",
          "height": 34
        }
      },
      "source": [
        "\"I'm fine\""
      ],
      "execution_count": 21,
      "outputs": [
        {
          "output_type": "execute_result",
          "data": {
            "text/plain": [
              "\"I'm fine\""
            ]
          },
          "metadata": {
            "tags": []
          },
          "execution_count": 21
        }
      ]
    },
    {
      "cell_type": "code",
      "metadata": {
        "id": "pJWqc76wXNkF",
        "colab_type": "code",
        "outputId": "1846bb4b-e6d6-4121-a04a-073be6e1d6d9",
        "colab": {
          "base_uri": "https://localhost:8080/",
          "height": 34
        }
      },
      "source": [
        "'I\\'m fine'"
      ],
      "execution_count": 22,
      "outputs": [
        {
          "output_type": "execute_result",
          "data": {
            "text/plain": [
              "\"I'm fine\""
            ]
          },
          "metadata": {
            "tags": []
          },
          "execution_count": 22
        }
      ]
    },
    {
      "cell_type": "code",
      "metadata": {
        "id": "Zt-JyZMIXS7L",
        "colab_type": "code",
        "outputId": "a94da405-c270-45cc-83ef-a3aa15da1845",
        "colab": {
          "base_uri": "https://localhost:8080/",
          "height": 34
        }
      },
      "source": [
        "'Press \"Enter\"'"
      ],
      "execution_count": 23,
      "outputs": [
        {
          "output_type": "execute_result",
          "data": {
            "text/plain": [
              "'Press \"Enter\"'"
            ]
          },
          "metadata": {
            "tags": []
          },
          "execution_count": 23
        }
      ]
    },
    {
      "cell_type": "code",
      "metadata": {
        "id": "GCSqzX3JXV49",
        "colab_type": "code",
        "outputId": "e3814afc-42cd-4d86-a79d-b296397f0f7a",
        "colab": {
          "base_uri": "https://localhost:8080/",
          "height": 34
        }
      },
      "source": [
        "'Red' 'car'"
      ],
      "execution_count": 24,
      "outputs": [
        {
          "output_type": "execute_result",
          "data": {
            "text/plain": [
              "'Redcar'"
            ]
          },
          "metadata": {
            "tags": []
          },
          "execution_count": 24
        }
      ]
    },
    {
      "cell_type": "code",
      "metadata": {
        "id": "NDzTaB6TXYPg",
        "colab_type": "code",
        "outputId": "7c30136c-a992-4a68-a20a-71ba330d8c87",
        "colab": {
          "base_uri": "https://localhost:8080/",
          "height": 34
        }
      },
      "source": [
        "'Red'+'Car'"
      ],
      "execution_count": 25,
      "outputs": [
        {
          "output_type": "execute_result",
          "data": {
            "text/plain": [
              "'RedCar'"
            ]
          },
          "metadata": {
            "tags": []
          },
          "execution_count": 25
        }
      ]
    },
    {
      "cell_type": "code",
      "metadata": {
        "id": "gMc579q3XbI0",
        "colab_type": "code",
        "outputId": "f140a5af-9952-4e13-de62-63c550646d05",
        "colab": {
          "base_uri": "https://localhost:8080/",
          "height": 34
        }
      },
      "source": [
        "print('Red','Car')"
      ],
      "execution_count": 26,
      "outputs": [
        {
          "output_type": "stream",
          "text": [
            "Red Car\n"
          ],
          "name": "stdout"
        }
      ]
    },
    {
      "cell_type": "code",
      "metadata": {
        "id": "_KKqodcoXdjJ",
        "colab_type": "code",
        "outputId": "a2fe9f04-dfef-482a-91a0-85b2a7d56de6",
        "colab": {
          "base_uri": "https://localhost:8080/",
          "height": 34
        }
      },
      "source": [
        "print(3,5)"
      ],
      "execution_count": 27,
      "outputs": [
        {
          "output_type": "stream",
          "text": [
            "3 5\n"
          ],
          "name": "stdout"
        }
      ]
    },
    {
      "cell_type": "code",
      "metadata": {
        "id": "QWJlwKffXf1q",
        "colab_type": "code",
        "outputId": "cba34705-34f4-40ae-cdb7-58c64f19713d",
        "colab": {
          "base_uri": "https://localhost:8080/",
          "height": 34
        }
      },
      "source": [
        "3,5,6.9,7.0,'car'"
      ],
      "execution_count": 28,
      "outputs": [
        {
          "output_type": "execute_result",
          "data": {
            "text/plain": [
              "(3, 5, 6.9, 7.0, 'car')"
            ]
          },
          "metadata": {
            "tags": []
          },
          "execution_count": 28
        }
      ]
    },
    {
      "cell_type": "markdown",
      "metadata": {
        "id": "HMbbA2MsOLYd",
        "colab_type": "text"
      },
      "source": [
        "# Basic Python Syntax"
      ]
    },
    {
      "cell_type": "markdown",
      "metadata": {
        "id": "4JeO1CEqMrBN",
        "colab_type": "text"
      },
      "source": [
        "Arithmetic Operators"
      ]
    },
    {
      "cell_type": "code",
      "metadata": {
        "id": "4C_RUqilXpak",
        "colab_type": "code",
        "outputId": "dc22d862-8c0f-43ac-ae0d-eb1ab85e7878",
        "colab": {
          "base_uri": "https://localhost:8080/",
          "height": 34
        }
      },
      "source": [
        "1 + 2"
      ],
      "execution_count": 29,
      "outputs": [
        {
          "output_type": "execute_result",
          "data": {
            "text/plain": [
              "3"
            ]
          },
          "metadata": {
            "tags": []
          },
          "execution_count": 29
        }
      ]
    },
    {
      "cell_type": "code",
      "metadata": {
        "id": "N3YeNkanX8r0",
        "colab_type": "code",
        "outputId": "70ce2e37-f6d3-4bfd-8f32-9a419362c9c2",
        "colab": {
          "base_uri": "https://localhost:8080/",
          "height": 34
        }
      },
      "source": [
        "3 - 5"
      ],
      "execution_count": 30,
      "outputs": [
        {
          "output_type": "execute_result",
          "data": {
            "text/plain": [
              "-2"
            ]
          },
          "metadata": {
            "tags": []
          },
          "execution_count": 30
        }
      ]
    },
    {
      "cell_type": "code",
      "metadata": {
        "id": "b2dLuBFYX93t",
        "colab_type": "code",
        "outputId": "bb669d76-383b-4c68-b297-ad1174836e63",
        "colab": {
          "base_uri": "https://localhost:8080/",
          "height": 34
        }
      },
      "source": [
        "15/3"
      ],
      "execution_count": 31,
      "outputs": [
        {
          "output_type": "execute_result",
          "data": {
            "text/plain": [
              "5.0"
            ]
          },
          "metadata": {
            "tags": []
          },
          "execution_count": 31
        }
      ]
    },
    {
      "cell_type": "code",
      "metadata": {
        "id": "pcjZBD5HX_H6",
        "colab_type": "code",
        "outputId": "109c8ad1-6437-479c-94c9-c45a80a7bee5",
        "colab": {
          "base_uri": "https://localhost:8080/",
          "height": 34
        }
      },
      "source": [
        "16/3 # or 16.0/3"
      ],
      "execution_count": 32,
      "outputs": [
        {
          "output_type": "execute_result",
          "data": {
            "text/plain": [
              "5.333333333333333"
            ]
          },
          "metadata": {
            "tags": []
          },
          "execution_count": 32
        }
      ]
    },
    {
      "cell_type": "code",
      "metadata": {
        "id": "mf5YqH0vYAxm",
        "colab_type": "code",
        "outputId": "359c1cf3-e885-41ad-ba8c-68f4e9074ea3",
        "colab": {
          "base_uri": "https://localhost:8080/",
          "height": 34
        }
      },
      "source": [
        "16%3 # this will give remainder"
      ],
      "execution_count": 33,
      "outputs": [
        {
          "output_type": "execute_result",
          "data": {
            "text/plain": [
              "1"
            ]
          },
          "metadata": {
            "tags": []
          },
          "execution_count": 33
        }
      ]
    },
    {
      "cell_type": "code",
      "metadata": {
        "id": "Xcw0pDaJYQHb",
        "colab_type": "code",
        "outputId": "471c65a6-8330-4e45-9e05-6393789feaf7",
        "colab": {
          "base_uri": "https://localhost:8080/",
          "height": 34
        }
      },
      "source": [
        "5*3"
      ],
      "execution_count": 34,
      "outputs": [
        {
          "output_type": "execute_result",
          "data": {
            "text/plain": [
              "15"
            ]
          },
          "metadata": {
            "tags": []
          },
          "execution_count": 34
        }
      ]
    },
    {
      "cell_type": "markdown",
      "metadata": {
        "id": "nGKa6G_nYbcz",
        "colab_type": "text"
      },
      "source": [
        "** Raises the left operand to the power of the right operand"
      ]
    },
    {
      "cell_type": "code",
      "metadata": {
        "id": "FCmgNJb_YabY",
        "colab_type": "code",
        "outputId": "4d8a00fb-1614-4885-8bb1-2a7446475f23",
        "colab": {
          "base_uri": "https://localhost:8080/",
          "height": 34
        }
      },
      "source": [
        "5 ** 3"
      ],
      "execution_count": 35,
      "outputs": [
        {
          "output_type": "execute_result",
          "data": {
            "text/plain": [
              "125"
            ]
          },
          "metadata": {
            "tags": []
          },
          "execution_count": 35
        }
      ]
    },
    {
      "cell_type": "markdown",
      "metadata": {
        "id": "mq4Uu_VRM4Ut",
        "colab_type": "text"
      },
      "source": [
        "Double Equality Sign"
      ]
    },
    {
      "cell_type": "markdown",
      "metadata": {
        "id": "zJ-dkjmRYuoE",
        "colab_type": "text"
      },
      "source": [
        "== means \"equals\"\n",
        "\n",
        "Is y equal to 125?"
      ]
    },
    {
      "cell_type": "code",
      "metadata": {
        "id": "RcBSI-KbYoVx",
        "colab_type": "code",
        "outputId": "473fe5c7-af67-4312-ac2e-955b645ca9de",
        "colab": {
          "base_uri": "https://localhost:8080/",
          "height": 34
        }
      },
      "source": [
        "y = 5 ** 3\n",
        "y == 125"
      ],
      "execution_count": 36,
      "outputs": [
        {
          "output_type": "execute_result",
          "data": {
            "text/plain": [
              "True"
            ]
          },
          "metadata": {
            "tags": []
          },
          "execution_count": 36
        }
      ]
    },
    {
      "cell_type": "markdown",
      "metadata": {
        "id": "NIxx0SINNHq8",
        "colab_type": "text"
      },
      "source": [
        "How to Reassign Values"
      ]
    },
    {
      "cell_type": "code",
      "metadata": {
        "id": "iuqKOu8GZALA",
        "colab_type": "code",
        "outputId": "9d2706d1-9ca8-4eb0-9337-dff2f1c0cf50",
        "colab": {
          "base_uri": "https://localhost:8080/",
          "height": 34
        }
      },
      "source": [
        "z = 1\n",
        "z"
      ],
      "execution_count": 37,
      "outputs": [
        {
          "output_type": "execute_result",
          "data": {
            "text/plain": [
              "1"
            ]
          },
          "metadata": {
            "tags": []
          },
          "execution_count": 37
        }
      ]
    },
    {
      "cell_type": "code",
      "metadata": {
        "id": "7uKkHng5ZDDn",
        "colab_type": "code",
        "outputId": "31217450-45b1-4bba-e9a1-bed1a0bc488e",
        "colab": {
          "base_uri": "https://localhost:8080/",
          "height": 34
        }
      },
      "source": [
        "z = 3\n",
        "z"
      ],
      "execution_count": 38,
      "outputs": [
        {
          "output_type": "execute_result",
          "data": {
            "text/plain": [
              "3"
            ]
          },
          "metadata": {
            "tags": []
          },
          "execution_count": 38
        }
      ]
    },
    {
      "cell_type": "markdown",
      "metadata": {
        "id": "MIb1QWzDNOh3",
        "colab_type": "text"
      },
      "source": [
        "Comments"
      ]
    },
    {
      "cell_type": "code",
      "metadata": {
        "id": "I-rlOb84ZKw5",
        "colab_type": "code",
        "colab": {}
      },
      "source": [
        "# This is commenting where comments are the sentences not executed by the computer\n",
        "# a comment"
      ],
      "execution_count": 0,
      "outputs": []
    },
    {
      "cell_type": "markdown",
      "metadata": {
        "id": "EIQNR9yhOaF5",
        "colab_type": "text"
      },
      "source": [
        "Line Continuation"
      ]
    },
    {
      "cell_type": "code",
      "metadata": {
        "id": "3uMuWXlHZXko",
        "colab_type": "code",
        "outputId": "d91b41b8-df8f-4953-8219-167ef4bdd4ba",
        "colab": {
          "base_uri": "https://localhost:8080/",
          "height": 34
        }
      },
      "source": [
        "2.0*1.5 + \\\n",
        "5"
      ],
      "execution_count": 40,
      "outputs": [
        {
          "output_type": "execute_result",
          "data": {
            "text/plain": [
              "8.0"
            ]
          },
          "metadata": {
            "tags": []
          },
          "execution_count": 40
        }
      ]
    },
    {
      "cell_type": "markdown",
      "metadata": {
        "id": "hdb0-bW0NYrI",
        "colab_type": "text"
      },
      "source": [
        "Indexing Elements\n",
        "\n",
        "\"Name_of_variable\"[index_of_element]\n",
        "\n",
        "Count from 0, not from 1!"
      ]
    },
    {
      "cell_type": "code",
      "metadata": {
        "id": "mDRVkxbbZkU4",
        "colab_type": "code",
        "outputId": "f0947e2a-a217-40fb-f515-c38624180e21",
        "colab": {
          "base_uri": "https://localhost:8080/",
          "height": 34
        }
      },
      "source": [
        "\"Friday\"[3]"
      ],
      "execution_count": 41,
      "outputs": [
        {
          "output_type": "execute_result",
          "data": {
            "text/plain": [
              "'d'"
            ]
          },
          "metadata": {
            "tags": []
          },
          "execution_count": 41
        }
      ]
    },
    {
      "cell_type": "markdown",
      "metadata": {
        "id": "0s6oZNePNhUu",
        "colab_type": "text"
      },
      "source": [
        "Structuring with Indentation"
      ]
    },
    {
      "cell_type": "code",
      "metadata": {
        "id": "EpQZ8ofxZ6wC",
        "colab_type": "code",
        "colab": {}
      },
      "source": [
        "#This will not return 3 as print is return inside definition\n",
        "def five(x):\n",
        "  x = 5\n",
        "  return x\n",
        "  print(five(3))"
      ],
      "execution_count": 0,
      "outputs": []
    },
    {
      "cell_type": "code",
      "metadata": {
        "id": "k1dHeohGaL75",
        "colab_type": "code",
        "outputId": "dfeadf73-2df4-4ec4-cc62-839ef0f6e674",
        "colab": {
          "base_uri": "https://localhost:8080/",
          "height": 34
        }
      },
      "source": [
        "#Block of code/command #1\n",
        "def five(x):\n",
        "  x = 5\n",
        "  return x\n",
        "\n",
        "#Block of code/command #2\n",
        "print(five(3))"
      ],
      "execution_count": 43,
      "outputs": [
        {
          "output_type": "stream",
          "text": [
            "5\n"
          ],
          "name": "stdout"
        }
      ]
    },
    {
      "cell_type": "markdown",
      "metadata": {
        "id": "AwIQkl37NpcS",
        "colab_type": "text"
      },
      "source": [
        "Comparison Operators"
      ]
    },
    {
      "cell_type": "markdown",
      "metadata": {
        "id": "Q3ab_mwlazKC",
        "colab_type": "text"
      },
      "source": [
        "== Equal to "
      ]
    },
    {
      "cell_type": "code",
      "metadata": {
        "id": "Dw4XgEL-abMc",
        "colab_type": "code",
        "outputId": "22efaecc-c5ec-4aff-9023-3e72be49c629",
        "colab": {
          "base_uri": "https://localhost:8080/",
          "height": 34
        }
      },
      "source": [
        "10 == 20/2"
      ],
      "execution_count": 44,
      "outputs": [
        {
          "output_type": "execute_result",
          "data": {
            "text/plain": [
              "True"
            ]
          },
          "metadata": {
            "tags": []
          },
          "execution_count": 44
        }
      ]
    },
    {
      "cell_type": "markdown",
      "metadata": {
        "id": "yY2easAaawvU",
        "colab_type": "text"
      },
      "source": [
        "!= \"Not equal to\""
      ]
    },
    {
      "cell_type": "code",
      "metadata": {
        "id": "8lDxHZdPalHD",
        "colab_type": "code",
        "outputId": "ee30b54a-4b67-4c02-c4e7-cc74e259fbb4",
        "colab": {
          "base_uri": "https://localhost:8080/",
          "height": 34
        }
      },
      "source": [
        "10 !=10"
      ],
      "execution_count": 45,
      "outputs": [
        {
          "output_type": "execute_result",
          "data": {
            "text/plain": [
              "False"
            ]
          },
          "metadata": {
            "tags": []
          },
          "execution_count": 45
        }
      ]
    },
    {
      "cell_type": "markdown",
      "metadata": {
        "id": "GMbJE8Gra08c",
        "colab_type": "text"
      },
      "source": [
        "> \"Greater than\"\n",
        "\n",
        "< \"Less than\"\n",
        "\n",
        ">= \"Greater than equal to\n",
        "\n",
        "<= \"Less than equal to"
      ]
    },
    {
      "cell_type": "code",
      "metadata": {
        "id": "v0wyfk5Ra0Vp",
        "colab_type": "code",
        "outputId": "21ecf947-7c0b-44ee-a9db-fa894171f204",
        "colab": {
          "base_uri": "https://localhost:8080/",
          "height": 34
        }
      },
      "source": [
        "10 < 5"
      ],
      "execution_count": 46,
      "outputs": [
        {
          "output_type": "execute_result",
          "data": {
            "text/plain": [
              "False"
            ]
          },
          "metadata": {
            "tags": []
          },
          "execution_count": 46
        }
      ]
    },
    {
      "cell_type": "code",
      "metadata": {
        "id": "NBsxqpFqbFDU",
        "colab_type": "code",
        "outputId": "e02238f4-f46e-40ba-dea9-d2037c39b5d6",
        "colab": {
          "base_uri": "https://localhost:8080/",
          "height": 34
        }
      },
      "source": [
        "10 > 5"
      ],
      "execution_count": 47,
      "outputs": [
        {
          "output_type": "execute_result",
          "data": {
            "text/plain": [
              "True"
            ]
          },
          "metadata": {
            "tags": []
          },
          "execution_count": 47
        }
      ]
    },
    {
      "cell_type": "markdown",
      "metadata": {
        "id": "cndNBA-YNwfI",
        "colab_type": "text"
      },
      "source": [
        "Logical and Identity Operators"
      ]
    },
    {
      "cell_type": "markdown",
      "metadata": {
        "id": "T1iW-T2rbKb3",
        "colab_type": "text"
      },
      "source": [
        "1.NOT - 2.AND - 3.OR  is the ranking\n",
        "\n",
        "Logical operators = Boolean operators"
      ]
    },
    {
      "cell_type": "code",
      "metadata": {
        "id": "t7kjMnHZbH_c",
        "colab_type": "code",
        "outputId": "faeab631-b341-4bfb-f84c-3a96c5137a2a",
        "colab": {
          "base_uri": "https://localhost:8080/",
          "height": 34
        }
      },
      "source": [
        "True and True"
      ],
      "execution_count": 48,
      "outputs": [
        {
          "output_type": "execute_result",
          "data": {
            "text/plain": [
              "True"
            ]
          },
          "metadata": {
            "tags": []
          },
          "execution_count": 48
        }
      ]
    },
    {
      "cell_type": "code",
      "metadata": {
        "id": "8GUGuaRcbW17",
        "colab_type": "code",
        "outputId": "535f4f7f-15d6-4b2e-9c29-7378f6961cde",
        "colab": {
          "base_uri": "https://localhost:8080/",
          "height": 34
        }
      },
      "source": [
        "False or True"
      ],
      "execution_count": 49,
      "outputs": [
        {
          "output_type": "execute_result",
          "data": {
            "text/plain": [
              "True"
            ]
          },
          "metadata": {
            "tags": []
          },
          "execution_count": 49
        }
      ]
    },
    {
      "cell_type": "code",
      "metadata": {
        "id": "u58RLSLjbZ2V",
        "colab_type": "code",
        "outputId": "ea102280-1280-4220-c775-560715bca4ec",
        "colab": {
          "base_uri": "https://localhost:8080/",
          "height": 34
        }
      },
      "source": [
        "not True and True or True"
      ],
      "execution_count": 50,
      "outputs": [
        {
          "output_type": "execute_result",
          "data": {
            "text/plain": [
              "True"
            ]
          },
          "metadata": {
            "tags": []
          },
          "execution_count": 50
        }
      ]
    },
    {
      "cell_type": "code",
      "metadata": {
        "id": "M8yIy-S7by6b",
        "colab_type": "code",
        "outputId": "e818ecd1-42d0-4970-e1a5-7ff0bda0d732",
        "colab": {
          "base_uri": "https://localhost:8080/",
          "height": 34
        }
      },
      "source": [
        "5 is 6"
      ],
      "execution_count": 51,
      "outputs": [
        {
          "output_type": "execute_result",
          "data": {
            "text/plain": [
              "False"
            ]
          },
          "metadata": {
            "tags": []
          },
          "execution_count": 51
        }
      ]
    },
    {
      "cell_type": "markdown",
      "metadata": {
        "id": "FEjgkHkANzra",
        "colab_type": "text"
      },
      "source": [
        "# Conditional Statements\n",
        "\n",
        "The computer reads your commands from top to bottom"
      ]
    },
    {
      "cell_type": "markdown",
      "metadata": {
        "id": "hS5jHZM7N51W",
        "colab_type": "text"
      },
      "source": [
        "**IF Statement**\n",
        "\n",
        "if condition:  \n",
        "  \n",
        "  conditional code"
      ]
    },
    {
      "cell_type": "code",
      "metadata": {
        "id": "2kDKfc7st_qg",
        "colab_type": "code",
        "colab": {}
      },
      "source": [
        "if 3 == 15/3:\n",
        "  print(\"Hooray\")"
      ],
      "execution_count": 0,
      "outputs": []
    },
    {
      "cell_type": "markdown",
      "metadata": {
        "id": "6TURoi91Ohe4",
        "colab_type": "text"
      },
      "source": [
        "**ELSE Statement**\n",
        "\n",
        "if condition:\n",
        "  \n",
        "  conditional code\n",
        "\n",
        "else:\n",
        "  \n",
        "  else code"
      ]
    },
    {
      "cell_type": "code",
      "metadata": {
        "id": "lWf3Bqm1uSw6",
        "colab_type": "code",
        "outputId": "f3953aa7-f3c4-440d-b7dc-3e0e6c8d5354",
        "colab": {
          "base_uri": "https://localhost:8080/",
          "height": 34
        }
      },
      "source": [
        "x = 1\n",
        "if x > 3:\n",
        "  print(\"Case 1\")\n",
        "else:\n",
        "  print(\"Case 2\")"
      ],
      "execution_count": 53,
      "outputs": [
        {
          "output_type": "stream",
          "text": [
            "Case 2\n"
          ],
          "name": "stdout"
        }
      ]
    },
    {
      "cell_type": "markdown",
      "metadata": {
        "id": "7WE3DTlnOjRf",
        "colab_type": "text"
      },
      "source": [
        "ELIF Statement"
      ]
    },
    {
      "cell_type": "code",
      "metadata": {
        "id": "mOgIgr8wullX",
        "colab_type": "code",
        "colab": {}
      },
      "source": [
        "def compare_to_five(y):\n",
        "  if y > 5:\n",
        "    return \"Greater\"\n",
        "  elif y < 0:\n",
        "    return \"Negative\"\n",
        "  elif y < 5:\n",
        "    return \"Less\"\n",
        "  else:\n",
        "    return \"Equal\""
      ],
      "execution_count": 0,
      "outputs": []
    },
    {
      "cell_type": "code",
      "metadata": {
        "id": "px7cAYP5u2yk",
        "colab_type": "code",
        "outputId": "58420973-897a-4f2a-ea53-4d44e6eee263",
        "colab": {
          "base_uri": "https://localhost:8080/",
          "height": 34
        }
      },
      "source": [
        "print(compare_to_five(-3))"
      ],
      "execution_count": 55,
      "outputs": [
        {
          "output_type": "stream",
          "text": [
            "Negative\n"
          ],
          "name": "stdout"
        }
      ]
    },
    {
      "cell_type": "markdown",
      "metadata": {
        "id": "O-w4ZRTGOlZY",
        "colab_type": "text"
      },
      "source": [
        "Boolean Values"
      ]
    },
    {
      "cell_type": "code",
      "metadata": {
        "id": "RH08faAyzJMl",
        "colab_type": "code",
        "outputId": "1c627fe0-44ab-458e-f28a-e25244e3a631",
        "colab": {
          "base_uri": "https://localhost:8080/",
          "height": 34
        }
      },
      "source": [
        "x =2\n",
        "\n",
        "if x > 4:\n",
        "  print(\"Correct\")\n",
        "else:\n",
        "  print(\"Incorrect\")"
      ],
      "execution_count": 56,
      "outputs": [
        {
          "output_type": "stream",
          "text": [
            "Incorrect\n"
          ],
          "name": "stdout"
        }
      ]
    },
    {
      "cell_type": "markdown",
      "metadata": {
        "id": "Ef_N4M9VOn9y",
        "colab_type": "text"
      },
      "source": [
        "# Python Functions"
      ]
    },
    {
      "cell_type": "markdown",
      "metadata": {
        "id": "bgs35xHtOwYa",
        "colab_type": "text"
      },
      "source": [
        "Defining a Function\n",
        "\n",
        "def function_name(parameters):\n",
        "  \n",
        "  function body\n",
        "\n",
        "We must call the function!!"
      ]
    },
    {
      "cell_type": "code",
      "metadata": {
        "id": "XoagHYxpz2WZ",
        "colab_type": "code",
        "colab": {}
      },
      "source": [
        "def simple():\n",
        "  print(\"My first function\")"
      ],
      "execution_count": 0,
      "outputs": []
    },
    {
      "cell_type": "code",
      "metadata": {
        "id": "v5xlHcLlz75g",
        "colab_type": "code",
        "outputId": "49f48391-b521-4c99-ba43-3a00b8dca066",
        "colab": {
          "base_uri": "https://localhost:8080/",
          "height": 34
        }
      },
      "source": [
        "simple()"
      ],
      "execution_count": 58,
      "outputs": [
        {
          "output_type": "stream",
          "text": [
            "My first function\n"
          ],
          "name": "stdout"
        }
      ]
    },
    {
      "cell_type": "markdown",
      "metadata": {
        "id": "L7MtfuIdO2Vg",
        "colab_type": "text"
      },
      "source": [
        "Define a function with Python"
      ]
    },
    {
      "cell_type": "code",
      "metadata": {
        "id": "yGLDFhoKcUya",
        "colab_type": "code",
        "colab": {}
      },
      "source": [
        "def plus_ten(a):\n",
        "  return a+10"
      ],
      "execution_count": 0,
      "outputs": []
    },
    {
      "cell_type": "code",
      "metadata": {
        "id": "N0dBjgQQca8k",
        "colab_type": "code",
        "colab": {
          "base_uri": "https://localhost:8080/",
          "height": 34
        },
        "outputId": "599b4fa1-3e74-4274-ac4f-42ca12881b12"
      },
      "source": [
        "plus_ten(2)"
      ],
      "execution_count": 60,
      "outputs": [
        {
          "output_type": "execute_result",
          "data": {
            "text/plain": [
              "12"
            ]
          },
          "metadata": {
            "tags": []
          },
          "execution_count": 60
        }
      ]
    },
    {
      "cell_type": "markdown",
      "metadata": {
        "id": "kTdv52fIcrHr",
        "colab_type": "text"
      },
      "source": [
        "Return the value using a variable"
      ]
    },
    {
      "cell_type": "code",
      "metadata": {
        "id": "IZ9kolXickEt",
        "colab_type": "code",
        "colab": {}
      },
      "source": [
        "def plus_ten(a):\n",
        "  result = a+10\n",
        "  return result"
      ],
      "execution_count": 0,
      "outputs": []
    },
    {
      "cell_type": "code",
      "metadata": {
        "id": "8YcFWvoXcuo8",
        "colab_type": "code",
        "colab": {
          "base_uri": "https://localhost:8080/",
          "height": 34
        },
        "outputId": "7a6af389-aba6-49e4-a685-e2595cf26abd"
      },
      "source": [
        "plus_ten(2)"
      ],
      "execution_count": 62,
      "outputs": [
        {
          "output_type": "execute_result",
          "data": {
            "text/plain": [
              "12"
            ]
          },
          "metadata": {
            "tags": []
          },
          "execution_count": 62
        }
      ]
    },
    {
      "cell_type": "markdown",
      "metadata": {
        "id": "1OpzaQZ7c00I",
        "colab_type": "text"
      },
      "source": [
        "**print:** does not affect the calculation of the output\n",
        "\n",
        "**return:** \n",
        "\n",
        "*   does not visualize the output\n",
        "*   it specifies what a certain function is supposed to give back\n",
        "*   we can return only a single result out of a function\n",
        "\n"
      ]
    },
    {
      "cell_type": "code",
      "metadata": {
        "id": "maHKj9IzdTsL",
        "colab_type": "code",
        "colab": {}
      },
      "source": [
        "def plus_ten(a):\n",
        "  result = a+10\n",
        "  print(\"Outcome\")\n",
        "  return result"
      ],
      "execution_count": 0,
      "outputs": []
    },
    {
      "cell_type": "code",
      "metadata": {
        "id": "2tJePG0HdaE7",
        "colab_type": "code",
        "colab": {
          "base_uri": "https://localhost:8080/",
          "height": 50
        },
        "outputId": "e5e04a83-6ba0-430f-96b5-936c904d5d85"
      },
      "source": [
        "plus_ten(2)"
      ],
      "execution_count": 64,
      "outputs": [
        {
          "output_type": "stream",
          "text": [
            "Outcome\n"
          ],
          "name": "stdout"
        },
        {
          "output_type": "execute_result",
          "data": {
            "text/plain": [
              "12"
            ]
          },
          "metadata": {
            "tags": []
          },
          "execution_count": 64
        }
      ]
    },
    {
      "cell_type": "markdown",
      "metadata": {
        "id": "mCVF1euBO6Vv",
        "colab_type": "text"
      },
      "source": [
        "Use a Function within a Function"
      ]
    },
    {
      "cell_type": "code",
      "metadata": {
        "id": "k5LVwCCMd40X",
        "colab_type": "code",
        "colab": {}
      },
      "source": [
        "def wage(w_hours):\n",
        "  return w_hours * 25\n",
        "\n",
        "def with_bonus(w_hours):\n",
        "  return wage(w_hours)+50"
      ],
      "execution_count": 0,
      "outputs": []
    },
    {
      "cell_type": "code",
      "metadata": {
        "id": "7aqFseDkeJH_",
        "colab_type": "code",
        "colab": {
          "base_uri": "https://localhost:8080/",
          "height": 34
        },
        "outputId": "f06fdb05-8051-40b2-ecb7-f7f6f2dba8be"
      },
      "source": [
        "wage(8), with_bonus(8)"
      ],
      "execution_count": 66,
      "outputs": [
        {
          "output_type": "execute_result",
          "data": {
            "text/plain": [
              "(200, 250)"
            ]
          },
          "metadata": {
            "tags": []
          },
          "execution_count": 66
        }
      ]
    },
    {
      "cell_type": "markdown",
      "metadata": {
        "id": "UUlt2hrCO_ee",
        "colab_type": "text"
      },
      "source": [
        "Conditional Statements and Functions\n",
        "\n",
        "Example: \n",
        "If Johnny has saved at least 100 dollars by the end of the week +$10\n",
        "\n",
        "If not $0"
      ]
    },
    {
      "cell_type": "code",
      "metadata": {
        "id": "FKSq1DWbegbe",
        "colab_type": "code",
        "colab": {}
      },
      "source": [
        "def add_10(m):\n",
        "  if m >=100:\n",
        "    m = m + 10\n",
        "    return m\n",
        "  else:\n",
        "    return \"Save more!\""
      ],
      "execution_count": 0,
      "outputs": []
    },
    {
      "cell_type": "code",
      "metadata": {
        "id": "Ne_ulxIIfd6I",
        "colab_type": "code",
        "colab": {
          "base_uri": "https://localhost:8080/",
          "height": 34
        },
        "outputId": "3068bf85-ce33-4926-d9fa-51cb3be94125"
      },
      "source": [
        "add_10(110)"
      ],
      "execution_count": 68,
      "outputs": [
        {
          "output_type": "execute_result",
          "data": {
            "text/plain": [
              "120"
            ]
          },
          "metadata": {
            "tags": []
          },
          "execution_count": 68
        }
      ]
    },
    {
      "cell_type": "code",
      "metadata": {
        "id": "HH223hwffgC3",
        "colab_type": "code",
        "colab": {
          "base_uri": "https://localhost:8080/",
          "height": 34
        },
        "outputId": "4a6c4cb8-3ba2-4deb-8337-02f35d860406"
      },
      "source": [
        "add_10(90)"
      ],
      "execution_count": 69,
      "outputs": [
        {
          "output_type": "execute_result",
          "data": {
            "text/plain": [
              "'Save more!'"
            ]
          },
          "metadata": {
            "tags": []
          },
          "execution_count": 69
        }
      ]
    },
    {
      "cell_type": "markdown",
      "metadata": {
        "id": "Nh9s9JnGPB6N",
        "colab_type": "text"
      },
      "source": [
        "Functions containing a Few Arguments\n",
        "\n",
        "**def_function(parameter1,parameter2)**"
      ]
    },
    {
      "cell_type": "code",
      "metadata": {
        "id": "ns8QHHXrflaz",
        "colab_type": "code",
        "colab": {}
      },
      "source": [
        "def subtract_bc(a,b,c):\n",
        "  result = a-b*c\n",
        "  print('Parameter a equals',a)\n",
        "  print('Parameter b equals',b)\n",
        "  print('Parameter c equals',c)\n",
        "  return result"
      ],
      "execution_count": 0,
      "outputs": []
    },
    {
      "cell_type": "code",
      "metadata": {
        "id": "cqo9SdH_gEtn",
        "colab_type": "code",
        "colab": {
          "base_uri": "https://localhost:8080/",
          "height": 84
        },
        "outputId": "fa01c445-e888-4566-d275-c5e1f1395ebb"
      },
      "source": [
        "subtract_bc(10,3,2)"
      ],
      "execution_count": 71,
      "outputs": [
        {
          "output_type": "stream",
          "text": [
            "Parameter a equals 10\n",
            "Parameter b equals 3\n",
            "Parameter c equals 2\n"
          ],
          "name": "stdout"
        },
        {
          "output_type": "execute_result",
          "data": {
            "text/plain": [
              "4"
            ]
          },
          "metadata": {
            "tags": []
          },
          "execution_count": 71
        }
      ]
    },
    {
      "cell_type": "code",
      "metadata": {
        "id": "wDgTyNgsgL5D",
        "colab_type": "code",
        "colab": {
          "base_uri": "https://localhost:8080/",
          "height": 84
        },
        "outputId": "57869bcf-7b0c-420a-cdcc-a20ace7aab32"
      },
      "source": [
        "subtract_bc(b=3,a=10,c=2)"
      ],
      "execution_count": 72,
      "outputs": [
        {
          "output_type": "stream",
          "text": [
            "Parameter a equals 10\n",
            "Parameter b equals 3\n",
            "Parameter c equals 2\n"
          ],
          "name": "stdout"
        },
        {
          "output_type": "execute_result",
          "data": {
            "text/plain": [
              "4"
            ]
          },
          "metadata": {
            "tags": []
          },
          "execution_count": 72
        }
      ]
    },
    {
      "cell_type": "markdown",
      "metadata": {
        "id": "WvT2CvawPFOD",
        "colab_type": "text"
      },
      "source": [
        "Built-in Functions\n",
        "\n",
        "These can be applied directly"
      ]
    },
    {
      "cell_type": "markdown",
      "metadata": {
        "id": "tJR_PQaCgasb",
        "colab_type": "text"
      },
      "source": [
        "type() obtains the type of variale you use as an argument"
      ]
    },
    {
      "cell_type": "code",
      "metadata": {
        "id": "4vZQjqFigYHg",
        "colab_type": "code",
        "colab": {
          "base_uri": "https://localhost:8080/",
          "height": 34
        },
        "outputId": "6584acb2-a837-4063-fc3c-d1dc70c8f00d"
      },
      "source": [
        "type(10)"
      ],
      "execution_count": 73,
      "outputs": [
        {
          "output_type": "execute_result",
          "data": {
            "text/plain": [
              "int"
            ]
          },
          "metadata": {
            "tags": []
          },
          "execution_count": 73
        }
      ]
    },
    {
      "cell_type": "markdown",
      "metadata": {
        "id": "vCuwVovmgoYq",
        "colab_type": "text"
      },
      "source": [
        "max() returns the highest value from sequence of numbers"
      ]
    },
    {
      "cell_type": "code",
      "metadata": {
        "id": "IQs_qk_CgzHt",
        "colab_type": "code",
        "colab": {
          "base_uri": "https://localhost:8080/",
          "height": 34
        },
        "outputId": "de3dbdaf-08a0-4ef1-c499-d10dbf0ccc23"
      },
      "source": [
        "max(10,20,30)"
      ],
      "execution_count": 74,
      "outputs": [
        {
          "output_type": "execute_result",
          "data": {
            "text/plain": [
              "30"
            ]
          },
          "metadata": {
            "tags": []
          },
          "execution_count": 74
        }
      ]
    },
    {
      "cell_type": "markdown",
      "metadata": {
        "id": "-3fCE-Higv8l",
        "colab_type": "text"
      },
      "source": [
        "min() returns the lowest value from sequence of numbers"
      ]
    },
    {
      "cell_type": "code",
      "metadata": {
        "id": "SA4FplLfg1PZ",
        "colab_type": "code",
        "colab": {
          "base_uri": "https://localhost:8080/",
          "height": 34
        },
        "outputId": "6cccfa5d-e5b8-453c-c98c-04a9a1566bd4"
      },
      "source": [
        "min(10,20,30)"
      ],
      "execution_count": 75,
      "outputs": [
        {
          "output_type": "execute_result",
          "data": {
            "text/plain": [
              "10"
            ]
          },
          "metadata": {
            "tags": []
          },
          "execution_count": 75
        }
      ]
    },
    {
      "cell_type": "markdown",
      "metadata": {
        "id": "brWgz3nNg3XY",
        "colab_type": "text"
      },
      "source": [
        "abs() allows you to obtain the absolute value of its argument"
      ]
    },
    {
      "cell_type": "code",
      "metadata": {
        "id": "KWiFwdtahDH1",
        "colab_type": "code",
        "colab": {
          "base_uri": "https://localhost:8080/",
          "height": 34
        },
        "outputId": "0d0e52de-3889-45a5-dcae-3e16e6d19e46"
      },
      "source": [
        "z = -20\n",
        "abs(z)"
      ],
      "execution_count": 76,
      "outputs": [
        {
          "output_type": "execute_result",
          "data": {
            "text/plain": [
              "20"
            ]
          },
          "metadata": {
            "tags": []
          },
          "execution_count": 76
        }
      ]
    },
    {
      "cell_type": "markdown",
      "metadata": {
        "id": "48X8MFYyhGfu",
        "colab_type": "text"
      },
      "source": [
        "sum() calculates the sum of all elements in a list designated as an argument"
      ]
    },
    {
      "cell_type": "code",
      "metadata": {
        "id": "pPsd4VOnhMMc",
        "colab_type": "code",
        "colab": {
          "base_uri": "https://localhost:8080/",
          "height": 34
        },
        "outputId": "f0ac68c4-dc06-404e-acd3-cec130791af7"
      },
      "source": [
        "list_1 = [1,2,3,4]\n",
        "sum(list_1)"
      ],
      "execution_count": 77,
      "outputs": [
        {
          "output_type": "execute_result",
          "data": {
            "text/plain": [
              "10"
            ]
          },
          "metadata": {
            "tags": []
          },
          "execution_count": 77
        }
      ]
    },
    {
      "cell_type": "markdown",
      "metadata": {
        "id": "TVWQLUhthTBb",
        "colab_type": "text"
      },
      "source": [
        "round(x,y) returns the float of its argument(x), rounded to a specified number of digits(y) after the decimal point"
      ]
    },
    {
      "cell_type": "code",
      "metadata": {
        "id": "r7orfkruheGz",
        "colab_type": "code",
        "colab": {
          "base_uri": "https://localhost:8080/",
          "height": 34
        },
        "outputId": "ab3ef61a-da3b-4fe8-f3ac-575b796ec994"
      },
      "source": [
        "round(3.555,2)"
      ],
      "execution_count": 78,
      "outputs": [
        {
          "output_type": "execute_result",
          "data": {
            "text/plain": [
              "3.56"
            ]
          },
          "metadata": {
            "tags": []
          },
          "execution_count": 78
        }
      ]
    },
    {
      "cell_type": "markdown",
      "metadata": {
        "id": "RsJ54w4bhm6M",
        "colab_type": "text"
      },
      "source": [
        "pow(x,y) returns x to the power y\n"
      ]
    },
    {
      "cell_type": "code",
      "metadata": {
        "id": "oOwbe3cThr3B",
        "colab_type": "code",
        "colab": {
          "base_uri": "https://localhost:8080/",
          "height": 34
        },
        "outputId": "8c417bc0-94bd-4888-8c28-130b2af29835"
      },
      "source": [
        "pow(2,10)"
      ],
      "execution_count": 79,
      "outputs": [
        {
          "output_type": "execute_result",
          "data": {
            "text/plain": [
              "1024"
            ]
          },
          "metadata": {
            "tags": []
          },
          "execution_count": 79
        }
      ]
    },
    {
      "cell_type": "markdown",
      "metadata": {
        "id": "VROhy2qxhwGe",
        "colab_type": "text"
      },
      "source": [
        "len() returns the number of elements in an object"
      ]
    },
    {
      "cell_type": "code",
      "metadata": {
        "id": "hdq2UuzQh2DP",
        "colab_type": "code",
        "colab": {
          "base_uri": "https://localhost:8080/",
          "height": 34
        },
        "outputId": "38d310f7-9bf1-4106-9d3c-e83d0275af84"
      },
      "source": [
        "len('Python')"
      ],
      "execution_count": 80,
      "outputs": [
        {
          "output_type": "execute_result",
          "data": {
            "text/plain": [
              "6"
            ]
          },
          "metadata": {
            "tags": []
          },
          "execution_count": 80
        }
      ]
    },
    {
      "cell_type": "markdown",
      "metadata": {
        "id": "ij_JQnAvPHtk",
        "colab_type": "text"
      },
      "source": [
        "# Sequences"
      ]
    },
    {
      "cell_type": "markdown",
      "metadata": {
        "id": "WslBjGTVPK3Z",
        "colab_type": "text"
      },
      "source": [
        "Lists: is a type of sequence of data points\n",
        "\n",
        "Use square brackets [ ]\n",
        "\n",
        "Use quotation marks ' '"
      ]
    },
    {
      "cell_type": "code",
      "metadata": {
        "id": "q0wArJJDiFNz",
        "colab_type": "code",
        "colab": {
          "base_uri": "https://localhost:8080/",
          "height": 34
        },
        "outputId": "603586cf-26eb-441a-9f8a-f7d603112161"
      },
      "source": [
        "List_of_elements = ['element1','element2','element3']\n",
        "List_of_elements"
      ],
      "execution_count": 81,
      "outputs": [
        {
          "output_type": "execute_result",
          "data": {
            "text/plain": [
              "['element1', 'element2', 'element3']"
            ]
          },
          "metadata": {
            "tags": []
          },
          "execution_count": 81
        }
      ]
    },
    {
      "cell_type": "markdown",
      "metadata": {
        "id": "zV447M7ficcQ",
        "colab_type": "text"
      },
      "source": [
        "\"Name_of_list\"[index_of_element]\n",
        "\n",
        "Example: Accessing list by indexing the value 1\n",
        "\n",
        "**Indexing starts with 0**"
      ]
    },
    {
      "cell_type": "code",
      "metadata": {
        "id": "yyj_--Lmihel",
        "colab_type": "code",
        "colab": {
          "base_uri": "https://localhost:8080/",
          "height": 34
        },
        "outputId": "0049386b-2bfc-4abb-e3ce-58da60c815d0"
      },
      "source": [
        "print(List_of_elements[1])"
      ],
      "execution_count": 82,
      "outputs": [
        {
          "output_type": "stream",
          "text": [
            "element2\n"
          ],
          "name": "stdout"
        }
      ]
    },
    {
      "cell_type": "markdown",
      "metadata": {
        "id": "l6aZf5nGi6wW",
        "colab_type": "text"
      },
      "source": [
        "Replace value at index 2"
      ]
    },
    {
      "cell_type": "code",
      "metadata": {
        "id": "iQ8SNnPai9l5",
        "colab_type": "code",
        "colab": {
          "base_uri": "https://localhost:8080/",
          "height": 34
        },
        "outputId": "b1dce109-76c5-4f67-f04e-4b906f71ca35"
      },
      "source": [
        "List_of_elements[2]='Replaced element'\n",
        "List_of_elements"
      ],
      "execution_count": 83,
      "outputs": [
        {
          "output_type": "execute_result",
          "data": {
            "text/plain": [
              "['element1', 'element2', 'Replaced element']"
            ]
          },
          "metadata": {
            "tags": []
          },
          "execution_count": 83
        }
      ]
    },
    {
      "cell_type": "markdown",
      "metadata": {
        "id": "tfrE3YswjG21",
        "colab_type": "text"
      },
      "source": [
        "**del** removes an item from a list"
      ]
    },
    {
      "cell_type": "code",
      "metadata": {
        "id": "LymeDuQbjGLn",
        "colab_type": "code",
        "colab": {
          "base_uri": "https://localhost:8080/",
          "height": 34
        },
        "outputId": "2b0cfe72-d461-492c-d4da-52b79527d433"
      },
      "source": [
        "del List_of_elements[2]\n",
        "List_of_elements"
      ],
      "execution_count": 84,
      "outputs": [
        {
          "output_type": "execute_result",
          "data": {
            "text/plain": [
              "['element1', 'element2']"
            ]
          },
          "metadata": {
            "tags": []
          },
          "execution_count": 84
        }
      ]
    },
    {
      "cell_type": "markdown",
      "metadata": {
        "id": "2xSzT-6iPPPu",
        "colab_type": "text"
      },
      "source": [
        "Methods\n",
        "\n",
        "**.append()**: adds value to list\n",
        "\n",
        "Syntax: object.method()\n",
        "dot operator -> call on/invoke a certain method\n",
        "\n",
        "**Note:** If you keep executing this code repeatedly it will add the element at the end all again"
      ]
    },
    {
      "cell_type": "code",
      "metadata": {
        "id": "qDc2AzYEjr9c",
        "colab_type": "code",
        "colab": {
          "base_uri": "https://localhost:8080/",
          "height": 34
        },
        "outputId": "fe6fdeb0-67b0-4d32-8d21-0b462fd12368"
      },
      "source": [
        "List_of_elements.append(\"Added element\")\n",
        "List_of_elements"
      ],
      "execution_count": 85,
      "outputs": [
        {
          "output_type": "execute_result",
          "data": {
            "text/plain": [
              "['element1', 'element2', 'Added element']"
            ]
          },
          "metadata": {
            "tags": []
          },
          "execution_count": 85
        }
      ]
    },
    {
      "cell_type": "markdown",
      "metadata": {
        "id": "NefDex9fkkNe",
        "colab_type": "text"
      },
      "source": [
        "**.extend()** adds list to existing list"
      ]
    },
    {
      "cell_type": "code",
      "metadata": {
        "id": "dDBoaJIRkPN4",
        "colab_type": "code",
        "colab": {
          "base_uri": "https://localhost:8080/",
          "height": 34
        },
        "outputId": "175271ef-e2c8-4f92-c44f-9803baffcb89"
      },
      "source": [
        "List_of_elements.extend(['Element3','Element4'])\n",
        "List_of_elements"
      ],
      "execution_count": 86,
      "outputs": [
        {
          "output_type": "execute_result",
          "data": {
            "text/plain": [
              "['element1', 'element2', 'Added element', 'Element3', 'Element4']"
            ]
          },
          "metadata": {
            "tags": []
          },
          "execution_count": 86
        }
      ]
    },
    {
      "cell_type": "code",
      "metadata": {
        "id": "tt92Sbrzkjzf",
        "colab_type": "code",
        "colab": {
          "base_uri": "https://localhost:8080/",
          "height": 34
        },
        "outputId": "a97413ca-4e46-4151-d42e-bf984980f4fb"
      },
      "source": [
        "print(\"The first element is \" + List_of_elements[0] + '.')"
      ],
      "execution_count": 87,
      "outputs": [
        {
          "output_type": "stream",
          "text": [
            "The first element is element1.\n"
          ],
          "name": "stdout"
        }
      ]
    },
    {
      "cell_type": "markdown",
      "metadata": {
        "id": "szwTIEHllEJi",
        "colab_type": "text"
      },
      "source": [
        "**len()** : Returns the number of elements in the list"
      ]
    },
    {
      "cell_type": "code",
      "metadata": {
        "id": "n_IiqtrYlILc",
        "colab_type": "code",
        "colab": {
          "base_uri": "https://localhost:8080/",
          "height": 34
        },
        "outputId": "31c81e29-5c09-4ab6-94be-57189cdc1f92"
      },
      "source": [
        "len(List_of_elements)"
      ],
      "execution_count": 88,
      "outputs": [
        {
          "output_type": "execute_result",
          "data": {
            "text/plain": [
              "5"
            ]
          },
          "metadata": {
            "tags": []
          },
          "execution_count": 88
        }
      ]
    },
    {
      "cell_type": "markdown",
      "metadata": {
        "id": "qGnkHCrGPQou",
        "colab_type": "text"
      },
      "source": [
        "List Slicing"
      ]
    },
    {
      "cell_type": "code",
      "metadata": {
        "id": "yd9bTmmPmPUC",
        "colab_type": "code",
        "colab": {
          "base_uri": "https://localhost:8080/",
          "height": 34
        },
        "outputId": "b75eec09-9793-4d9b-b6fe-b68229e00edf"
      },
      "source": [
        "List_of_elements = ['0','1','2','3','4','5','6']\n",
        "List_of_elements"
      ],
      "execution_count": 89,
      "outputs": [
        {
          "output_type": "execute_result",
          "data": {
            "text/plain": [
              "['0', '1', '2', '3', '4', '5', '6']"
            ]
          },
          "metadata": {
            "tags": []
          },
          "execution_count": 89
        }
      ]
    },
    {
      "cell_type": "code",
      "metadata": {
        "id": "BUYzF0QamYXY",
        "colab_type": "code",
        "colab": {
          "base_uri": "https://localhost:8080/",
          "height": 34
        },
        "outputId": "96765f5c-b832-4392-e855-fe1e7d0a647e"
      },
      "source": [
        "List_of_elements[1:3]"
      ],
      "execution_count": 90,
      "outputs": [
        {
          "output_type": "execute_result",
          "data": {
            "text/plain": [
              "['1', '2']"
            ]
          },
          "metadata": {
            "tags": []
          },
          "execution_count": 90
        }
      ]
    },
    {
      "cell_type": "code",
      "metadata": {
        "id": "Amq235JVmd7y",
        "colab_type": "code",
        "colab": {
          "base_uri": "https://localhost:8080/",
          "height": 34
        },
        "outputId": "9e25eda5-d0ed-4d0e-e80b-1280091051b0"
      },
      "source": [
        "List_of_elements[:2]"
      ],
      "execution_count": 91,
      "outputs": [
        {
          "output_type": "execute_result",
          "data": {
            "text/plain": [
              "['0', '1']"
            ]
          },
          "metadata": {
            "tags": []
          },
          "execution_count": 91
        }
      ]
    },
    {
      "cell_type": "code",
      "metadata": {
        "id": "JkCbAPmrmk8K",
        "colab_type": "code",
        "colab": {
          "base_uri": "https://localhost:8080/",
          "height": 34
        },
        "outputId": "46846d3d-9986-49ba-f5fd-ec8224038737"
      },
      "source": [
        "List_of_elements[4:]"
      ],
      "execution_count": 92,
      "outputs": [
        {
          "output_type": "execute_result",
          "data": {
            "text/plain": [
              "['4', '5', '6']"
            ]
          },
          "metadata": {
            "tags": []
          },
          "execution_count": 92
        }
      ]
    },
    {
      "cell_type": "code",
      "metadata": {
        "id": "vIF2pZ7SmoXC",
        "colab_type": "code",
        "colab": {
          "base_uri": "https://localhost:8080/",
          "height": 34
        },
        "outputId": "51c4480d-b752-4376-863b-037ff4be955a"
      },
      "source": [
        "List_of_elements[-2]"
      ],
      "execution_count": 93,
      "outputs": [
        {
          "output_type": "execute_result",
          "data": {
            "text/plain": [
              "'5'"
            ]
          },
          "metadata": {
            "tags": []
          },
          "execution_count": 93
        }
      ]
    },
    {
      "cell_type": "code",
      "metadata": {
        "id": "wjgUXbtfmtpy",
        "colab_type": "code",
        "colab": {
          "base_uri": "https://localhost:8080/",
          "height": 34
        },
        "outputId": "eb91ddaa-b6e8-4b56-f01d-1ba5bc3ee702"
      },
      "source": [
        "List_of_elements[-2:]"
      ],
      "execution_count": 94,
      "outputs": [
        {
          "output_type": "execute_result",
          "data": {
            "text/plain": [
              "['5', '6']"
            ]
          },
          "metadata": {
            "tags": []
          },
          "execution_count": 94
        }
      ]
    },
    {
      "cell_type": "code",
      "metadata": {
        "id": "H9Ye5J5fm0tV",
        "colab_type": "code",
        "colab": {
          "base_uri": "https://localhost:8080/",
          "height": 34
        },
        "outputId": "c8dbf099-633f-4116-a110-45edb38c35dc"
      },
      "source": [
        "List_of_elements.index('2')"
      ],
      "execution_count": 95,
      "outputs": [
        {
          "output_type": "execute_result",
          "data": {
            "text/plain": [
              "2"
            ]
          },
          "metadata": {
            "tags": []
          },
          "execution_count": 95
        }
      ]
    },
    {
      "cell_type": "code",
      "metadata": {
        "id": "ZpLkQlxTm4tN",
        "colab_type": "code",
        "colab": {
          "base_uri": "https://localhost:8080/",
          "height": 34
        },
        "outputId": "4862a72a-5a04-4d65-9acc-1529dec8a5d9"
      },
      "source": [
        "List_of_characters = ['a','b','c','d','e']\n",
        "List_of_characters"
      ],
      "execution_count": 96,
      "outputs": [
        {
          "output_type": "execute_result",
          "data": {
            "text/plain": [
              "['a', 'b', 'c', 'd', 'e']"
            ]
          },
          "metadata": {
            "tags": []
          },
          "execution_count": 96
        }
      ]
    },
    {
      "cell_type": "code",
      "metadata": {
        "id": "YssKUKaAnBZ8",
        "colab_type": "code",
        "colab": {
          "base_uri": "https://localhost:8080/",
          "height": 34
        },
        "outputId": "b7714d8d-9f83-47c1-e7aa-8648ee32e3f1"
      },
      "source": [
        "Merge_List = [List_of_elements,List_of_characters]\n",
        "Merge_List"
      ],
      "execution_count": 97,
      "outputs": [
        {
          "output_type": "execute_result",
          "data": {
            "text/plain": [
              "[['0', '1', '2', '3', '4', '5', '6'], ['a', 'b', 'c', 'd', 'e']]"
            ]
          },
          "metadata": {
            "tags": []
          },
          "execution_count": 97
        }
      ]
    },
    {
      "cell_type": "markdown",
      "metadata": {
        "id": "22HbW0fbnP_J",
        "colab_type": "text"
      },
      "source": [
        "**.sort()** sorts object of list"
      ]
    },
    {
      "cell_type": "code",
      "metadata": {
        "id": "pIqYhyWDnTwk",
        "colab_type": "code",
        "colab": {
          "base_uri": "https://localhost:8080/",
          "height": 34
        },
        "outputId": "0da36542-14ce-4d66-d127-ee663f47be24"
      },
      "source": [
        "Numbers = [1,3,2,4,6]\n",
        "Numbers.sort()\n",
        "Numbers"
      ],
      "execution_count": 98,
      "outputs": [
        {
          "output_type": "execute_result",
          "data": {
            "text/plain": [
              "[1, 2, 3, 4, 6]"
            ]
          },
          "metadata": {
            "tags": []
          },
          "execution_count": 98
        }
      ]
    },
    {
      "cell_type": "code",
      "metadata": {
        "id": "9A-0ac3TnZ9C",
        "colab_type": "code",
        "colab": {
          "base_uri": "https://localhost:8080/",
          "height": 34
        },
        "outputId": "b7578ce1-add0-4289-d81a-1365b024e06b"
      },
      "source": [
        "Numbers.sort(reverse=True)\n",
        "Numbers"
      ],
      "execution_count": 99,
      "outputs": [
        {
          "output_type": "execute_result",
          "data": {
            "text/plain": [
              "[6, 4, 3, 2, 1]"
            ]
          },
          "metadata": {
            "tags": []
          },
          "execution_count": 99
        }
      ]
    },
    {
      "cell_type": "markdown",
      "metadata": {
        "id": "2WNvjzfVPR1-",
        "colab_type": "text"
      },
      "source": [
        "**Tuples** are a type of data sequences\n",
        "\n",
        "They are immutable"
      ]
    },
    {
      "cell_type": "code",
      "metadata": {
        "id": "k_1XJu4xnox2",
        "colab_type": "code",
        "colab": {
          "base_uri": "https://localhost:8080/",
          "height": 34
        },
        "outputId": "63f5f74d-57ca-4ca0-b180-4fb045f24ae8"
      },
      "source": [
        "x = (19,17,25)\n",
        "x"
      ],
      "execution_count": 100,
      "outputs": [
        {
          "output_type": "execute_result",
          "data": {
            "text/plain": [
              "(19, 17, 25)"
            ]
          },
          "metadata": {
            "tags": []
          },
          "execution_count": 100
        }
      ]
    },
    {
      "cell_type": "code",
      "metadata": {
        "id": "LbiukIx_nwe2",
        "colab_type": "code",
        "colab": {
          "base_uri": "https://localhost:8080/",
          "height": 34
        },
        "outputId": "fd9a1267-2cc9-4dc8-dc2f-abe70a905a87"
      },
      "source": [
        "y = (7,11,26)\n",
        "y"
      ],
      "execution_count": 101,
      "outputs": [
        {
          "output_type": "execute_result",
          "data": {
            "text/plain": [
              "(7, 11, 26)"
            ]
          },
          "metadata": {
            "tags": []
          },
          "execution_count": 101
        }
      ]
    },
    {
      "cell_type": "code",
      "metadata": {
        "id": "NxFhoLWqn0bO",
        "colab_type": "code",
        "colab": {
          "base_uri": "https://localhost:8080/",
          "height": 34
        },
        "outputId": "ab5ee204-d609-4ae6-f8fa-60af9d3d9407"
      },
      "source": [
        "a,b,c = 1,2,3\n",
        "c"
      ],
      "execution_count": 102,
      "outputs": [
        {
          "output_type": "execute_result",
          "data": {
            "text/plain": [
              "3"
            ]
          },
          "metadata": {
            "tags": []
          },
          "execution_count": 102
        }
      ]
    },
    {
      "cell_type": "code",
      "metadata": {
        "id": "QUYbTe0En5sQ",
        "colab_type": "code",
        "colab": {
          "base_uri": "https://localhost:8080/",
          "height": 34
        },
        "outputId": "4bbda8fc-a9bd-416e-ca25-3bee357a3226"
      },
      "source": [
        "x[0]"
      ],
      "execution_count": 103,
      "outputs": [
        {
          "output_type": "execute_result",
          "data": {
            "text/plain": [
              "19"
            ]
          },
          "metadata": {
            "tags": []
          },
          "execution_count": 103
        }
      ]
    },
    {
      "cell_type": "code",
      "metadata": {
        "id": "fLFrscdgn7l-",
        "colab_type": "code",
        "colab": {
          "base_uri": "https://localhost:8080/",
          "height": 34
        },
        "outputId": "3d102413-59d7-48fd-f1a6-3ed4c4382a59"
      },
      "source": [
        "List_1 = [x,y]\n",
        "List_1"
      ],
      "execution_count": 104,
      "outputs": [
        {
          "output_type": "execute_result",
          "data": {
            "text/plain": [
              "[(19, 17, 25), (7, 11, 26)]"
            ]
          },
          "metadata": {
            "tags": []
          },
          "execution_count": 104
        }
      ]
    },
    {
      "cell_type": "markdown",
      "metadata": {
        "id": "41g1YYR3oPRW",
        "colab_type": "text"
      },
      "source": [
        "**split()** the values as per the comma separator"
      ]
    },
    {
      "cell_type": "code",
      "metadata": {
        "id": "HDC2hRx_oABW",
        "colab_type": "code",
        "colab": {
          "base_uri": "https://localhost:8080/",
          "height": 50
        },
        "outputId": "70a39e81-7b8f-4bfb-a915-cc420ab71ebe"
      },
      "source": [
        "(age,year)=\"19,2020\".split(',')\n",
        "print(age)\n",
        "print(year)"
      ],
      "execution_count": 105,
      "outputs": [
        {
          "output_type": "stream",
          "text": [
            "19\n",
            "2020\n"
          ],
          "name": "stdout"
        }
      ]
    },
    {
      "cell_type": "markdown",
      "metadata": {
        "id": "M4jrIolUoVKj",
        "colab_type": "text"
      },
      "source": [
        "**Functions** can provide tuples a return values"
      ]
    },
    {
      "cell_type": "code",
      "metadata": {
        "id": "Y2XFonEOoaFs",
        "colab_type": "code",
        "colab": {
          "base_uri": "https://localhost:8080/",
          "height": 50
        },
        "outputId": "4338bbcb-eb70-4f09-b42e-1be7e7f37983"
      },
      "source": [
        "def square_info(x):\n",
        "  A = x ** 2\n",
        "  P = 4*x\n",
        "  print('Area and Perimeter:')\n",
        "  return A,P\n",
        "\n",
        "square_info(3)"
      ],
      "execution_count": 106,
      "outputs": [
        {
          "output_type": "stream",
          "text": [
            "Area and Perimeter:\n"
          ],
          "name": "stdout"
        },
        {
          "output_type": "execute_result",
          "data": {
            "text/plain": [
              "(9, 12)"
            ]
          },
          "metadata": {
            "tags": []
          },
          "execution_count": 106
        }
      ]
    },
    {
      "cell_type": "markdown",
      "metadata": {
        "id": "WeSiwmhOPS3w",
        "colab_type": "text"
      },
      "source": [
        "**Dictionaries** represent another way of storing data"
      ]
    },
    {
      "cell_type": "code",
      "metadata": {
        "id": "-q9GRDF-o3ra",
        "colab_type": "code",
        "colab": {
          "base_uri": "https://localhost:8080/",
          "height": 34
        },
        "outputId": "eb2a460e-319f-49ea-b5a9-a96d70e56843"
      },
      "source": [
        "dict = {'1':\"a\",'2':\"b\",'3':\"c\",'4':\"d\"}\n",
        "dict"
      ],
      "execution_count": 107,
      "outputs": [
        {
          "output_type": "execute_result",
          "data": {
            "text/plain": [
              "{'1': 'a', '2': 'b', '3': 'c', '4': 'd'}"
            ]
          },
          "metadata": {
            "tags": []
          },
          "execution_count": 107
        }
      ]
    },
    {
      "cell_type": "code",
      "metadata": {
        "id": "142tlWZTpO0S",
        "colab_type": "code",
        "colab": {
          "base_uri": "https://localhost:8080/",
          "height": 34
        },
        "outputId": "16153edb-bfd9-4291-a3ae-c454d7e81070"
      },
      "source": [
        "dict['1']"
      ],
      "execution_count": 108,
      "outputs": [
        {
          "output_type": "execute_result",
          "data": {
            "text/plain": [
              "'a'"
            ]
          },
          "metadata": {
            "tags": []
          },
          "execution_count": 108
        }
      ]
    },
    {
      "cell_type": "markdown",
      "metadata": {
        "id": "153XzxgppYTm",
        "colab_type": "text"
      },
      "source": [
        "dictionary_name[new_key_name]=new_value_name\n"
      ]
    },
    {
      "cell_type": "code",
      "metadata": {
        "id": "pHAmctr1pdC8",
        "colab_type": "code",
        "colab": {
          "base_uri": "https://localhost:8080/",
          "height": 34
        },
        "outputId": "edad29a4-7023-4615-cc7a-37c8be11cf23"
      },
      "source": [
        "dict['5'] = \"e\"\n",
        "dict"
      ],
      "execution_count": 109,
      "outputs": [
        {
          "output_type": "execute_result",
          "data": {
            "text/plain": [
              "{'1': 'a', '2': 'b', '3': 'c', '4': 'd', '5': 'e'}"
            ]
          },
          "metadata": {
            "tags": []
          },
          "execution_count": 109
        }
      ]
    },
    {
      "cell_type": "code",
      "metadata": {
        "id": "pWmH16q8pnBk",
        "colab_type": "code",
        "colab": {
          "base_uri": "https://localhost:8080/",
          "height": 34
        },
        "outputId": "9e2ccb7e-832e-4a2c-9a03-5f0c9a9735c9"
      },
      "source": [
        "dict['2'] = 'replace'\n",
        "dict"
      ],
      "execution_count": 110,
      "outputs": [
        {
          "output_type": "execute_result",
          "data": {
            "text/plain": [
              "{'1': 'a', '2': 'replace', '3': 'c', '4': 'd', '5': 'e'}"
            ]
          },
          "metadata": {
            "tags": []
          },
          "execution_count": 110
        }
      ]
    },
    {
      "cell_type": "code",
      "metadata": {
        "id": "0LuUFK7wpv83",
        "colab_type": "code",
        "colab": {}
      },
      "source": [
        "dep_name = {'1':'a','2':['b','c','d']}"
      ],
      "execution_count": 0,
      "outputs": []
    },
    {
      "cell_type": "code",
      "metadata": {
        "id": "hNlizLoLp5si",
        "colab_type": "code",
        "colab": {
          "base_uri": "https://localhost:8080/",
          "height": 34
        },
        "outputId": "4b37a43d-f790-41a2-862f-91db39f8d9fc"
      },
      "source": [
        "dep_name['2']"
      ],
      "execution_count": 112,
      "outputs": [
        {
          "output_type": "execute_result",
          "data": {
            "text/plain": [
              "['b', 'c', 'd']"
            ]
          },
          "metadata": {
            "tags": []
          },
          "execution_count": 112
        }
      ]
    },
    {
      "cell_type": "code",
      "metadata": {
        "id": "1wRjyWyqqBjT",
        "colab_type": "code",
        "colab": {}
      },
      "source": [
        "Team = {}\n",
        "Team['1'] = 'a'\n",
        "Team['2'] = 'b'\n",
        "Team['3'] = 'c'\n",
        "Team['4'] = 'd'"
      ],
      "execution_count": 0,
      "outputs": []
    },
    {
      "cell_type": "code",
      "metadata": {
        "id": "MX1XRVdaqLjm",
        "colab_type": "code",
        "colab": {
          "base_uri": "https://localhost:8080/",
          "height": 34
        },
        "outputId": "01e01d83-3836-4430-ec45-668e99ac4bae"
      },
      "source": [
        "print(Team)"
      ],
      "execution_count": 114,
      "outputs": [
        {
          "output_type": "stream",
          "text": [
            "{'1': 'a', '2': 'b', '3': 'c', '4': 'd'}\n"
          ],
          "name": "stdout"
        }
      ]
    },
    {
      "cell_type": "code",
      "metadata": {
        "id": "ygwAY1iAqN5u",
        "colab_type": "code",
        "colab": {
          "base_uri": "https://localhost:8080/",
          "height": 34
        },
        "outputId": "fabbe6e2-e2b9-442d-faf7-430d9e14b487"
      },
      "source": [
        "print(Team['2'])"
      ],
      "execution_count": 115,
      "outputs": [
        {
          "output_type": "stream",
          "text": [
            "b\n"
          ],
          "name": "stdout"
        }
      ]
    },
    {
      "cell_type": "code",
      "metadata": {
        "id": "malwYW5oqVCF",
        "colab_type": "code",
        "colab": {
          "base_uri": "https://localhost:8080/",
          "height": 34
        },
        "outputId": "00133ade-14e6-46b6-f862-b282cc1464d9"
      },
      "source": [
        "print(Team.get('3'))"
      ],
      "execution_count": 116,
      "outputs": [
        {
          "output_type": "stream",
          "text": [
            "c\n"
          ],
          "name": "stdout"
        }
      ]
    },
    {
      "cell_type": "markdown",
      "metadata": {
        "id": "Oaly3gEQPUwJ",
        "colab_type": "text"
      },
      "source": [
        "# Iterations \n",
        "\n",
        "It is the ability to execute a certain code repeatedly"
      ]
    },
    {
      "cell_type": "markdown",
      "metadata": {
        "id": "WfHKsskjPZ8Y",
        "colab_type": "text"
      },
      "source": [
        "For Loops"
      ]
    },
    {
      "cell_type": "code",
      "metadata": {
        "id": "SjGlbIj6q6NK",
        "colab_type": "code",
        "colab": {}
      },
      "source": [
        "even = [0,2,4,6,8,10,12,14,16,18,20]"
      ],
      "execution_count": 0,
      "outputs": []
    },
    {
      "cell_type": "markdown",
      "metadata": {
        "id": "bUbIvjDmq_Sc",
        "colab_type": "text"
      },
      "source": [
        "**for** every element n in the list even:"
      ]
    },
    {
      "cell_type": "code",
      "metadata": {
        "id": "lwJ4lLwjrE8F",
        "colab_type": "code",
        "colab": {
          "base_uri": "https://localhost:8080/",
          "height": 34
        },
        "outputId": "aff9dafc-bf59-4864-c947-14c410eb700a"
      },
      "source": [
        "for n in even:\n",
        "  print (n, end = \" \")"
      ],
      "execution_count": 118,
      "outputs": [
        {
          "output_type": "stream",
          "text": [
            "0 2 4 6 8 10 12 14 16 18 20 "
          ],
          "name": "stdout"
        }
      ]
    },
    {
      "cell_type": "markdown",
      "metadata": {
        "id": "RhD3Kmh8PbHb",
        "colab_type": "text"
      },
      "source": [
        "While Loops and Incrementing"
      ]
    },
    {
      "cell_type": "code",
      "metadata": {
        "id": "J2v8ejG5reGF",
        "colab_type": "code",
        "colab": {
          "base_uri": "https://localhost:8080/",
          "height": 34
        },
        "outputId": "5b04d5c7-d27d-46a1-9d3a-264a837ccb11"
      },
      "source": [
        "x = 0\n",
        "while x <= 20:\n",
        "  print(x, end = \" \")\n",
        "  x= x+2\n",
        "  # x = x+=2 increment operator similar to x = x+2"
      ],
      "execution_count": 119,
      "outputs": [
        {
          "output_type": "stream",
          "text": [
            "0 2 4 6 8 10 12 14 16 18 20 "
          ],
          "name": "stdout"
        }
      ]
    },
    {
      "cell_type": "markdown",
      "metadata": {
        "id": "oa-d6pLmPdig",
        "colab_type": "text"
      },
      "source": [
        "List with the range() Function\n",
        "\n",
        "**range(start,stop,step)**\n",
        "\n",
        "1.stop = the last value +1\n",
        "\n",
        "2.start = the first number in the list\n",
        "\n",
        "3.step = the distance between each two consecutive values"
      ]
    },
    {
      "cell_type": "code",
      "metadata": {
        "id": "-duy1p6Hrxj7",
        "colab_type": "code",
        "colab": {
          "base_uri": "https://localhost:8080/",
          "height": 34
        },
        "outputId": "d0ddc604-cd61-4a20-f736-5a3bfb135361"
      },
      "source": [
        "range(10)"
      ],
      "execution_count": 120,
      "outputs": [
        {
          "output_type": "execute_result",
          "data": {
            "text/plain": [
              "range(0, 10)"
            ]
          },
          "metadata": {
            "tags": []
          },
          "execution_count": 120
        }
      ]
    },
    {
      "cell_type": "markdown",
      "metadata": {
        "id": "35ar24ousTe5",
        "colab_type": "text"
      },
      "source": [
        "use list(range(10)) to display the sequence as a list"
      ]
    },
    {
      "cell_type": "code",
      "metadata": {
        "id": "qPU0-bJDsQ1a",
        "colab_type": "code",
        "colab": {
          "base_uri": "https://localhost:8080/",
          "height": 34
        },
        "outputId": "3f670540-3bd1-4d46-d777-27b4944fd317"
      },
      "source": [
        "list(range(10))"
      ],
      "execution_count": 121,
      "outputs": [
        {
          "output_type": "execute_result",
          "data": {
            "text/plain": [
              "[0, 1, 2, 3, 4, 5, 6, 7, 8, 9]"
            ]
          },
          "metadata": {
            "tags": []
          },
          "execution_count": 121
        }
      ]
    },
    {
      "cell_type": "code",
      "metadata": {
        "id": "7CMKfbrMsbw7",
        "colab_type": "code",
        "colab": {
          "base_uri": "https://localhost:8080/",
          "height": 34
        },
        "outputId": "562872f1-8808-433c-9d1f-01ec6647b77f"
      },
      "source": [
        "range(3,7)"
      ],
      "execution_count": 122,
      "outputs": [
        {
          "output_type": "execute_result",
          "data": {
            "text/plain": [
              "range(3, 7)"
            ]
          },
          "metadata": {
            "tags": []
          },
          "execution_count": 122
        }
      ]
    },
    {
      "cell_type": "code",
      "metadata": {
        "id": "ZJoO5YIgsdVd",
        "colab_type": "code",
        "colab": {
          "base_uri": "https://localhost:8080/",
          "height": 34
        },
        "outputId": "b46c1973-e53c-485e-f938-04a518177742"
      },
      "source": [
        "list(range(3,7))"
      ],
      "execution_count": 123,
      "outputs": [
        {
          "output_type": "execute_result",
          "data": {
            "text/plain": [
              "[3, 4, 5, 6]"
            ]
          },
          "metadata": {
            "tags": []
          },
          "execution_count": 123
        }
      ]
    },
    {
      "cell_type": "code",
      "metadata": {
        "id": "C4qxJQvVsfOe",
        "colab_type": "code",
        "colab": {
          "base_uri": "https://localhost:8080/",
          "height": 34
        },
        "outputId": "4ad24412-31b2-4bef-915f-64a5c5bcc202"
      },
      "source": [
        "range(1,20,2)"
      ],
      "execution_count": 124,
      "outputs": [
        {
          "output_type": "execute_result",
          "data": {
            "text/plain": [
              "range(1, 20, 2)"
            ]
          },
          "metadata": {
            "tags": []
          },
          "execution_count": 124
        }
      ]
    },
    {
      "cell_type": "code",
      "metadata": {
        "id": "ScMB5CatsjWS",
        "colab_type": "code",
        "colab": {
          "base_uri": "https://localhost:8080/",
          "height": 34
        },
        "outputId": "0fabaa8d-e79e-4d17-f3ea-df0bffff05e5"
      },
      "source": [
        "list(range(1,20,2))"
      ],
      "execution_count": 125,
      "outputs": [
        {
          "output_type": "execute_result",
          "data": {
            "text/plain": [
              "[1, 3, 5, 7, 9, 11, 13, 15, 17, 19]"
            ]
          },
          "metadata": {
            "tags": []
          },
          "execution_count": 125
        }
      ]
    },
    {
      "cell_type": "markdown",
      "metadata": {
        "id": "Tg_nnptzPgW7",
        "colab_type": "text"
      },
      "source": [
        "Conditional Statements, Functions and Loops"
      ]
    },
    {
      "cell_type": "code",
      "metadata": {
        "id": "KE7KjSo6srJL",
        "colab_type": "code",
        "colab": {}
      },
      "source": [
        "x = [0,1,2]"
      ],
      "execution_count": 0,
      "outputs": []
    },
    {
      "cell_type": "code",
      "metadata": {
        "id": "wIBpE3r9stT_",
        "colab_type": "code",
        "colab": {
          "base_uri": "https://localhost:8080/",
          "height": 34
        },
        "outputId": "7681bf68-f438-47ff-e4f0-6449a8c46497"
      },
      "source": [
        "for item in x:\n",
        "  print(item,end=\" \")"
      ],
      "execution_count": 127,
      "outputs": [
        {
          "output_type": "stream",
          "text": [
            "0 1 2 "
          ],
          "name": "stdout"
        }
      ]
    },
    {
      "cell_type": "code",
      "metadata": {
        "id": "tnTjrPqtsw5k",
        "colab_type": "code",
        "colab": {
          "base_uri": "https://localhost:8080/",
          "height": 34
        },
        "outputId": "e141e043-eb0c-46ea-c165-35cfa55acc68"
      },
      "source": [
        "for item in range(len(x)):\n",
        "  print(x[item],end= \" \")"
      ],
      "execution_count": 128,
      "outputs": [
        {
          "output_type": "stream",
          "text": [
            "0 1 2 "
          ],
          "name": "stdout"
        }
      ]
    },
    {
      "cell_type": "code",
      "metadata": {
        "id": "129uwH1NtK7x",
        "colab_type": "code",
        "colab": {}
      },
      "source": [
        "def count(numbers):\n",
        "  total = 0\n",
        "  for x in numbers:\n",
        "    if x < 20:\n",
        "      total +=1\n",
        "  return total"
      ],
      "execution_count": 0,
      "outputs": []
    },
    {
      "cell_type": "code",
      "metadata": {
        "id": "MuvyJaCXtWnk",
        "colab_type": "code",
        "colab": {}
      },
      "source": [
        "list_1 = [1,3,7,15,23,46,67]"
      ],
      "execution_count": 0,
      "outputs": []
    },
    {
      "cell_type": "markdown",
      "metadata": {
        "id": "UXtMH1Trt39_",
        "colab_type": "text"
      },
      "source": [
        "Returns the count of values in List that are less than 20"
      ]
    },
    {
      "cell_type": "code",
      "metadata": {
        "id": "C4vItd_4tarh",
        "colab_type": "code",
        "colab": {
          "base_uri": "https://localhost:8080/",
          "height": 34
        },
        "outputId": "34a32d16-0da8-4a64-bed6-c25c8890758a"
      },
      "source": [
        "count(list_1)"
      ],
      "execution_count": 131,
      "outputs": [
        {
          "output_type": "execute_result",
          "data": {
            "text/plain": [
              "4"
            ]
          },
          "metadata": {
            "tags": []
          },
          "execution_count": 131
        }
      ]
    },
    {
      "cell_type": "markdown",
      "metadata": {
        "id": "wmc6Y4jIuDvV",
        "colab_type": "text"
      },
      "source": [
        "How to iterate over the Dictionaries"
      ]
    },
    {
      "cell_type": "code",
      "metadata": {
        "id": "7X7Uh7AxuEaC",
        "colab_type": "code",
        "colab": {
          "base_uri": "https://localhost:8080/",
          "height": 34
        },
        "outputId": "d707032c-d780-4c05-9716-b9e808d434ff"
      },
      "source": [
        "prices = {\n",
        "    \"box_of_spaghetti\" : 4,\n",
        "    \"lasagna\" : 5,\n",
        "    \"hamburger\": 2\n",
        "}\n",
        "quantity = {\n",
        "    \"box_of_spaghetti\" : 5,\n",
        "    \"lasagna\" : 6,\n",
        "    \"hamburger\": 8\n",
        "}\n",
        "\n",
        "money_spent = 0\n",
        "\n",
        "for i in prices:\n",
        "  money_spent = money_spent + (prices[i] * quantity[i])\n",
        "\n",
        "print(money_spent)"
      ],
      "execution_count": 132,
      "outputs": [
        {
          "output_type": "stream",
          "text": [
            "66\n"
          ],
          "name": "stdout"
        }
      ]
    }
  ]
}