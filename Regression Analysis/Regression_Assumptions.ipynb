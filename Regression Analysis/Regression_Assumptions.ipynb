{
  "nbformat": 4,
  "nbformat_minor": 0,
  "metadata": {
    "colab": {
      "name": "Regression Assumptions.ipynb",
      "provenance": [],
      "collapsed_sections": []
    },
    "kernelspec": {
      "name": "python3",
      "display_name": "Python 3"
    }
  },
  "cells": [
    {
      "cell_type": "markdown",
      "metadata": {
        "id": "ZBMLzBzTUImj",
        "colab_type": "text"
      },
      "source": [
        "# Assumptions for Regression"
      ]
    },
    {
      "cell_type": "markdown",
      "metadata": {
        "id": "vNpZfthCUQxS",
        "colab_type": "text"
      },
      "source": [
        "**1. Linearity**\n",
        "\n",
        "The linear regression is the simplest non trivial relationship.\n",
        "\n",
        "Linearity can be tested by simply plotting the independent variable 'y' against the dependent variable 'x' using scatterplot.\n",
        "\n",
        "If the data points form a pattern that looks like a **straight line** then Linear regression is suitable."
      ]
    },
    {
      "cell_type": "markdown",
      "metadata": {
        "id": "BRQFkB76VMfW",
        "colab_type": "text"
      },
      "source": [
        "Fixes:\n",
        "\n",
        "1. Run a non linear regression\n",
        "2. Exponential transformation\n",
        "3. Log transformation\n",
        "\n"
      ]
    },
    {
      "cell_type": "markdown",
      "metadata": {
        "id": "9FNqNoXXUSzR",
        "colab_type": "text"
      },
      "source": [
        "**2. No endogeneity**\n",
        "\n",
        "In this is error E is correlated with independent variable X\n",
        "\n",
        "Omiited variable bias:\n",
        "Occurs when you forget to include a relevant variable\n",
        "\n",
        "\n",
        "You can test the variables by adding them and then dropping by checking the p-value"
      ]
    },
    {
      "cell_type": "markdown",
      "metadata": {
        "id": "ShbpQr2GWTis",
        "colab_type": "text"
      },
      "source": [
        "Issues:\n",
        "\n",
        "1. Always different\n",
        "2. Always sneaky\n",
        "3. Only experience and advanced knowledge can help"
      ]
    },
    {
      "cell_type": "markdown",
      "metadata": {
        "id": "8lFb9hGfUV39",
        "colab_type": "text"
      },
      "source": [
        "**3. Normality and homoscedasticity**"
      ]
    },
    {
      "cell_type": "markdown",
      "metadata": {
        "id": "1LO1isqqWphs",
        "colab_type": "text"
      },
      "source": [
        "**Normality:**\n",
        "\n",
        "As we assume the error term is normally distributed, normal distribution is not required for creating the regression but for making inferences.\n",
        "\n",
        "All the tables consist of t statistics and f statistics they all work because we assume normality of the error term.\n",
        "\n",
        "If they not normally distributed the central limit theorem applies for the error terms.\n",
        "\n",
        "**Zero mean:**\n",
        "\n",
        "If the mean is not expected to be 0 then the line is not the best fitting one.\n",
        "\n",
        "Intercept solves the problem.\n",
        "\n",
        "**Homoscedasticity:**\n",
        "H0 should have equal variance\n",
        "\n",
        "The values as accumulated at the start and then scatter. They don't follow proper pattern.\n",
        "\n",
        "Prevention:\n",
        "1. Look for ommited variable bias\n",
        "2. Look for outliers\n",
        "3. Transform the data\n",
        " \n",
        "  Log transformation\n"
      ]
    },
    {
      "cell_type": "code",
      "metadata": {
        "id": "ZlACQW89az-P",
        "colab_type": "code",
        "colab": {}
      },
      "source": [
        ""
      ],
      "execution_count": 0,
      "outputs": []
    },
    {
      "cell_type": "markdown",
      "metadata": {
        "id": "Fw_f4jovUZZg",
        "colab_type": "text"
      },
      "source": [
        "**4. No autocorrelation**\n",
        "\n",
        "It can be detected by plotting all the residuals on a graph and look for patterns.\n",
        "\n",
        "If there are no pattersn to be seen -> no autocorrelation\n",
        "\n",
        "Durbin-watson test: Seen in summary of statsmodel\n",
        "\n",
        "Usually falls between 0 and 4\n",
        "\n",
        "2 -> no autocorrelation\n",
        "\n",
        "< 1 and > 3 cause an alarm\n",
        "\n",
        "There is no remedy. You can just avoid linear regression when there the presence of autocorrelation.\n",
        "\n",
        "**Alternatives:**\n",
        "\n",
        "1. Autoregressive model\n",
        "2. Moving average model\n",
        "3. Autoregressive moving average model\n",
        "4. Autoregressive integrated moving average model"
      ]
    },
    {
      "cell_type": "markdown",
      "metadata": {
        "id": "dcUG0hf_Udo6",
        "colab_type": "text"
      },
      "source": [
        "**5. No multicollinearity**\n",
        "\n",
        "When there are two variables highly correlated you can omit one.\n",
        "\n",
        "It can be found by considering the p-value\n",
        "\n",
        "Fixes:\n",
        "1. Drop one of the two variables\n",
        "2. Transform them into one\n",
        "3. Keep them both (work with caution)"
      ]
    }
  ]
}